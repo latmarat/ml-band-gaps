{
  "nbformat": 4,
  "nbformat_minor": 0,
  "metadata": {
    "colab": {
      "name": "LiFeO-tests.ipynb",
      "version": "0.3.2",
      "provenance": [],
      "collapsed_sections": [],
      "toc_visible": true
    },
    "kernelspec": {
      "name": "python3",
      "display_name": "Python 3"
    }
  },
  "cells": [
    {
      "metadata": {
        "id": "6vj0MJsihYsp",
        "colab_type": "code",
        "colab": {},
        "cellView": "form"
      },
      "cell_type": "code",
      "source": [
        "#@title Input\n",
        "\n",
        "api_key = '' #@param {type:\"string\"}\n",
        "property = 'band_gap' #@param {type:\"string\"}"
      ],
      "execution_count": 0,
      "outputs": []
    },
    {
      "metadata": {
        "id": "bjcidB6nY7IF",
        "colab_type": "code",
        "colab": {
          "base_uri": "https://localhost:8080/",
          "height": 2111
        },
        "cellView": "code",
        "outputId": "aa874f22-193b-49f9-f276-2868de499895"
      },
      "cell_type": "code",
      "source": [
        "! pip install matminer"
      ],
      "execution_count": 2,
      "outputs": [
        {
          "output_type": "stream",
          "text": [
            "Collecting matminer\n",
            "\u001b[?25l  Downloading https://files.pythonhosted.org/packages/3b/bc/6a96bc133c62958930e44c4d441b678739b60cfe02bcfe68abd8f0f18c79/matminer-0.4.1.tar.gz (8.4MB)\n",
            "\u001b[K    100% |████████████████████████████████| 8.4MB 816kB/s \n",
            "\u001b[?25hCollecting pymatgen>=2018.8.7 (from matminer)\n",
            "\u001b[?25l  Downloading https://files.pythonhosted.org/packages/c2/f3/eb2dbb17d09b092820ba6ed1436547724d238bf0f1a08ffc910f859b589e/pymatgen-2018.9.12.tar.gz (1.8MB)\n",
            "\u001b[K    100% |████████████████████████████████| 1.8MB 15.8MB/s \n",
            "\u001b[?25hRequirement already satisfied: tqdm>=4.14.0 in /usr/local/lib/python3.6/dist-packages (from matminer) (4.25.0)\n",
            "Requirement already satisfied: pandas>=0.20.1 in /usr/local/lib/python3.6/dist-packages (from matminer) (0.22.0)\n",
            "Collecting pymongo>=3.4.0 (from matminer)\n",
            "\u001b[?25l  Downloading https://files.pythonhosted.org/packages/11/88/dd1f8c4281a60791b043f55e338d0521049208f21e3de19ddc9c160dbbef/pymongo-3.7.1-cp36-cp36m-manylinux1_x86_64.whl (405kB)\n",
            "\u001b[K    100% |████████████████████████████████| 409kB 23.9MB/s \n",
            "\u001b[?25hCollecting pint>=0.8.1 (from matminer)\n",
            "\u001b[?25l  Downloading https://files.pythonhosted.org/packages/1e/40/6938f7d544eef208a8183c2c80624289e8a4f4e0aea43f4658b9527077de/Pint-0.8.1.tar.gz (162kB)\n",
            "\u001b[K    100% |████████████████████████████████| 163kB 29.4MB/s \n",
            "\u001b[?25hRequirement already satisfied: six>=1.10.0 in /usr/local/lib/python3.6/dist-packages (from matminer) (1.11.0)\n",
            "Collecting citrination-client>=4.0.0 (from matminer)\n",
            "\u001b[?25l  Downloading https://files.pythonhosted.org/packages/23/5e/c61ad304aceb9c0ad112f878ebe91fb302047611e37ffe7b9d3deb519b7c/citrination-client-4.1.4.tar.gz (40kB)\n",
            "\u001b[K    100% |████████████████████████████████| 40kB 16.9MB/s \n",
            "\u001b[?25hCollecting plotly>=2.4.1 (from matminer)\n",
            "\u001b[?25l  Downloading https://files.pythonhosted.org/packages/6f/ad/3784bd093dc41d4a03804df70876143a17cdb6e50f5f1fc996c3aea1dd2a/plotly-3.2.0-py2.py3-none-any.whl (37.0MB)\n",
            "\u001b[K    100% |████████████████████████████████| 37.0MB 901kB/s \n",
            "\u001b[?25hCollecting mdf_forge>=0.6.1 (from matminer)\n",
            "  Downloading https://files.pythonhosted.org/packages/71/4c/187871258dca081084f2ddf2541e0cb77df17a9ecf98fd9e5853c860bfc3/mdf_forge-0.6.3-py2.py3-none-any.whl\n",
            "Requirement already satisfied: scikit-learn>=0.19.0 in /usr/local/lib/python3.6/dist-packages (from matminer) (0.19.2)\n",
            "Requirement already satisfied: sympy>=1.1.1 in /usr/local/lib/python3.6/dist-packages (from matminer) (1.1.1)\n",
            "Requirement already satisfied: numpy>=1.14.3 in /usr/local/lib/python3.6/dist-packages (from pymatgen>=2018.8.7->matminer) (1.14.5)\n",
            "Requirement already satisfied: requests in /usr/local/lib/python3.6/dist-packages (from pymatgen>=2018.8.7->matminer) (2.18.4)\n",
            "Collecting ruamel.yaml>=0.15.6 (from pymatgen>=2018.8.7->matminer)\n",
            "\u001b[?25l  Downloading https://files.pythonhosted.org/packages/a2/71/c11c959909beadba93435aa4eab3b8519ca9c36843437f2b17e9650df053/ruamel.yaml-0.15.66-cp36-cp36m-manylinux1_x86_64.whl (645kB)\n",
            "\u001b[K    100% |████████████████████████████████| 655kB 19.1MB/s \n",
            "\u001b[?25hCollecting monty>=0.9.6 (from pymatgen>=2018.8.7->matminer)\n",
            "\u001b[?25l  Downloading https://files.pythonhosted.org/packages/f1/44/f92ae375c030a3a98201d6d7ecdae9b74c39bdc58c05bf163db71c7dddbf/monty-1.0.3-py3-none-any.whl (61kB)\n",
            "\u001b[K    100% |████████████████████████████████| 61kB 21.8MB/s \n",
            "\u001b[?25hCollecting scipy>=1.0.1 (from pymatgen>=2018.8.7->matminer)\n",
            "\u001b[?25l  Downloading https://files.pythonhosted.org/packages/a8/0b/f163da98d3a01b3e0ef1cab8dd2123c34aee2bafbb1c5bffa354cc8a1730/scipy-1.1.0-cp36-cp36m-manylinux1_x86_64.whl (31.2MB)\n",
            "\u001b[K    100% |████████████████████████████████| 31.2MB 1.6MB/s \n",
            "\u001b[?25hCollecting pydispatcher>=2.0.5 (from pymatgen>=2018.8.7->matminer)\n",
            "  Downloading https://files.pythonhosted.org/packages/cd/37/39aca520918ce1935bea9c356bcbb7ed7e52ad4e31bff9b943dfc8e7115b/PyDispatcher-2.0.5.tar.gz\n",
            "Collecting tabulate (from pymatgen>=2018.8.7->matminer)\n",
            "\u001b[?25l  Downloading https://files.pythonhosted.org/packages/12/c2/11d6845db5edf1295bc08b2f488cf5937806586afe42936c3f34c097ebdc/tabulate-0.8.2.tar.gz (45kB)\n",
            "\u001b[K    100% |████████████████████████████████| 51kB 18.5MB/s \n",
            "\u001b[?25hCollecting spglib>=1.9.9.44 (from pymatgen>=2018.8.7->matminer)\n",
            "\u001b[?25l  Downloading https://files.pythonhosted.org/packages/ad/ab/7fe8ad0b796853bfe4b812287c6f31da367cfa19a4567a10c6deb4385601/spglib-1.10.4.11-cp36-cp36m-manylinux1_x86_64.whl (237kB)\n",
            "\u001b[K    100% |████████████████████████████████| 245kB 26.9MB/s \n",
            "\u001b[?25hRequirement already satisfied: networkx>=2.1 in /usr/local/lib/python3.6/dist-packages (from pymatgen>=2018.8.7->matminer) (2.1)\n",
            "Requirement already satisfied: matplotlib>=1.5 in /usr/local/lib/python3.6/dist-packages (from pymatgen>=2018.8.7->matminer) (2.1.2)\n",
            "Collecting palettable>=2.1.1 (from pymatgen>=2018.8.7->matminer)\n",
            "\u001b[?25l  Downloading https://files.pythonhosted.org/packages/56/8a/84537c0354f0d1f03bf644b71bf8e0a50db9c1294181905721a5f3efbf66/palettable-3.1.1-py2.py3-none-any.whl (77kB)\n",
            "\u001b[K    100% |████████████████████████████████| 81kB 25.0MB/s \n",
            "\u001b[?25hRequirement already satisfied: pytz>=2011k in /usr/local/lib/python3.6/dist-packages (from pandas>=0.20.1->matminer) (2018.5)\n",
            "Requirement already satisfied: python-dateutil>=2 in /usr/local/lib/python3.6/dist-packages (from pandas>=0.20.1->matminer) (2.5.3)\n",
            "Collecting pypif (from citrination-client>=4.0.0->matminer)\n",
            "  Downloading https://files.pythonhosted.org/packages/a1/72/57475f26c26490c3e0f3c93fabb27a95facb28e772a71b20b672419900d0/pypif-2.1.0.tar.gz\n",
            "Requirement already satisfied: pyyaml in /usr/local/lib/python3.6/dist-packages (from citrination-client>=4.0.0->matminer) (3.13)\n",
            "Requirement already satisfied: nbformat>=4.2 in /usr/local/lib/python3.6/dist-packages (from plotly>=2.4.1->matminer) (4.4.0)\n",
            "Collecting retrying>=1.3.3 (from plotly>=2.4.1->matminer)\n",
            "  Downloading https://files.pythonhosted.org/packages/44/ef/beae4b4ef80902f22e3af073397f079c96969c69b2c7d52a57ea9ae61c9d/retrying-1.3.3.tar.gz\n",
            "Requirement already satisfied: decorator>=4.0.6 in /usr/local/lib/python3.6/dist-packages (from plotly>=2.4.1->matminer) (4.3.0)\n",
            "Collecting mdf-toolbox>=0.2.0 (from mdf_forge>=0.6.1->matminer)\n",
            "  Downloading https://files.pythonhosted.org/packages/f7/86/ff1b44c369fabfafdb08704afa76b2318003718edc97aae1897099de3d27/mdf_toolbox-0.2.6-py2.py3-none-any.whl\n",
            "Collecting globus-sdk>=1.5.0 (from mdf_forge>=0.6.1->matminer)\n",
            "\u001b[?25l  Downloading https://files.pythonhosted.org/packages/f8/ae/e4adf1e8ee2bcfaa1305ec9c320f592215ffb2258db2e59363745aa1248b/globus-sdk-1.6.0.tar.gz (60kB)\n",
            "\u001b[K    100% |████████████████████████████████| 61kB 16.1MB/s \n",
            "\u001b[?25hRequirement already satisfied: mpmath>=0.19 in /usr/local/lib/python3.6/dist-packages (from sympy>=1.1.1->matminer) (1.0.0)\n",
            "Requirement already satisfied: urllib3<1.23,>=1.21.1 in /usr/local/lib/python3.6/dist-packages (from requests->pymatgen>=2018.8.7->matminer) (1.22)\n",
            "Requirement already satisfied: chardet<3.1.0,>=3.0.2 in /usr/local/lib/python3.6/dist-packages (from requests->pymatgen>=2018.8.7->matminer) (3.0.4)\n",
            "Requirement already satisfied: idna<2.7,>=2.5 in /usr/local/lib/python3.6/dist-packages (from requests->pymatgen>=2018.8.7->matminer) (2.6)\n",
            "Requirement already satisfied: certifi>=2017.4.17 in /usr/local/lib/python3.6/dist-packages (from requests->pymatgen>=2018.8.7->matminer) (2018.8.24)\n",
            "Requirement already satisfied: pyparsing!=2.0.4,!=2.1.2,!=2.1.6,>=2.0.1 in /usr/local/lib/python3.6/dist-packages (from matplotlib>=1.5->pymatgen>=2018.8.7->matminer) (2.2.0)\n",
            "Requirement already satisfied: cycler>=0.10 in /usr/local/lib/python3.6/dist-packages (from matplotlib>=1.5->pymatgen>=2018.8.7->matminer) (0.10.0)\n",
            "Requirement already satisfied: jsonschema!=2.5.0,>=2.4 in /usr/local/lib/python3.6/dist-packages (from nbformat>=4.2->plotly>=2.4.1->matminer) (2.6.0)\n",
            "Requirement already satisfied: traitlets>=4.1 in /usr/local/lib/python3.6/dist-packages (from nbformat>=4.2->plotly>=2.4.1->matminer) (4.3.2)\n",
            "Requirement already satisfied: ipython-genutils in /usr/local/lib/python3.6/dist-packages (from nbformat>=4.2->plotly>=2.4.1->matminer) (0.2.0)\n",
            "Requirement already satisfied: jupyter-core in /usr/local/lib/python3.6/dist-packages (from nbformat>=4.2->plotly>=2.4.1->matminer) (4.4.0)\n",
            "Collecting globus-nexus-client>=0.2.8 (from mdf-toolbox>=0.2.0->mdf_forge>=0.6.1->matminer)\n",
            "  Downloading https://files.pythonhosted.org/packages/d8/ea/cf065156bc5ffd2b57803ee414b4a720bac619e4ea49c6c9787dcff68ca9/globus-nexus-client-0.2.8.tar.gz\n",
            "Collecting pyjwt[crypto]<2.0.0,>=1.5.3 (from globus-sdk>=1.5.0->mdf_forge>=0.6.1->matminer)\n",
            "  Downloading https://files.pythonhosted.org/packages/93/d1/3378cc8184a6524dc92993090ee8b4c03847c567e298305d6cf86987e005/PyJWT-1.6.4-py2.py3-none-any.whl\n",
            "Collecting cryptography>=1.4; extra == \"crypto\" (from pyjwt[crypto]<2.0.0,>=1.5.3->globus-sdk>=1.5.0->mdf_forge>=0.6.1->matminer)\n",
            "\u001b[?25l  Downloading https://files.pythonhosted.org/packages/59/32/92cade62c645756a83598edf56289e9b19aae5370642a7ce690cd06bc72f/cryptography-2.3.1-cp34-abi3-manylinux1_x86_64.whl (2.1MB)\n",
            "\u001b[K    100% |████████████████████████████████| 2.1MB 11.1MB/s \n",
            "\u001b[?25hCollecting cffi!=1.11.3,>=1.7 (from cryptography>=1.4; extra == \"crypto\"->pyjwt[crypto]<2.0.0,>=1.5.3->globus-sdk>=1.5.0->mdf_forge>=0.6.1->matminer)\n",
            "\u001b[?25l  Downloading https://files.pythonhosted.org/packages/6d/c0/47db8f624f3e4e2f3f27be03a93379d1ba16a1450a7b1aacfa0366e2c0dd/cffi-1.11.5-cp36-cp36m-manylinux1_x86_64.whl (421kB)\n",
            "\u001b[K    100% |████████████████████████████████| 430kB 23.0MB/s \n",
            "\u001b[?25hCollecting asn1crypto>=0.21.0 (from cryptography>=1.4; extra == \"crypto\"->pyjwt[crypto]<2.0.0,>=1.5.3->globus-sdk>=1.5.0->mdf_forge>=0.6.1->matminer)\n",
            "\u001b[?25l  Downloading https://files.pythonhosted.org/packages/ea/cd/35485615f45f30a510576f1a56d1e0a7ad7bd8ab5ed7cdc600ef7cd06222/asn1crypto-0.24.0-py2.py3-none-any.whl (101kB)\n",
            "\u001b[K    100% |████████████████████████████████| 102kB 28.2MB/s \n",
            "\u001b[?25hCollecting pycparser (from cffi!=1.11.3,>=1.7->cryptography>=1.4; extra == \"crypto\"->pyjwt[crypto]<2.0.0,>=1.5.3->globus-sdk>=1.5.0->mdf_forge>=0.6.1->matminer)\n",
            "\u001b[?25l  Downloading https://files.pythonhosted.org/packages/8c/2d/aad7f16146f4197a11f8e91fb81df177adcc2073d36a17b1491fd09df6ed/pycparser-2.18.tar.gz (245kB)\n",
            "\u001b[K    100% |████████████████████████████████| 256kB 26.3MB/s \n",
            "\u001b[?25hBuilding wheels for collected packages: matminer, pymatgen, pint, citrination-client, pydispatcher, tabulate, pypif, retrying, globus-sdk, globus-nexus-client, pycparser\n",
            "  Running setup.py bdist_wheel for matminer ... \u001b[?25l-\b \b\\\b \b|\b \b/\b \b-\b \b\\\b \b|\b \bdone\n",
            "\u001b[?25h  Stored in directory: /root/.cache/pip/wheels/a1/9e/88/baf9d8d0878829e42d3df7ead94d7f240095ac2c19befdb560\n",
            "  Running setup.py bdist_wheel for pymatgen ... \u001b[?25l-\b \b\\\b \b|\b \b/\b \b-\b \b\\\b \b|\b \b/\b \b-\b \b\\\b \b|\b \b/\b \b-\b \b\\\b \bdone\n",
            "\u001b[?25h  Stored in directory: /root/.cache/pip/wheels/be/dc/51/380d075d9742e8c040ad95fca3348ecf320f67282be67092a8\n",
            "  Running setup.py bdist_wheel for pint ... \u001b[?25l-\b \b\\\b \bdone\n",
            "\u001b[?25h  Stored in directory: /root/.cache/pip/wheels/b4/56/36/7c4d6a4e3660e233b95e3b0482551915cb184abca0f93ee1dd\n",
            "  Running setup.py bdist_wheel for citrination-client ... \u001b[?25l-\b \b\\\b \bdone\n",
            "\u001b[?25h  Stored in directory: /root/.cache/pip/wheels/08/aa/c4/a2ba77e50643de1a8617baae8067b3298150b231fa97be3905\n",
            "  Running setup.py bdist_wheel for pydispatcher ... \u001b[?25l-\b \bdone\n",
            "\u001b[?25h  Stored in directory: /root/.cache/pip/wheels/88/99/96/cfef6665f9cb1522ee6757ae5955feedf2fe25f1737f91fa7f\n",
            "  Running setup.py bdist_wheel for tabulate ... \u001b[?25l-\b \bdone\n",
            "\u001b[?25h  Stored in directory: /root/.cache/pip/wheels/2a/85/33/2f6da85d5f10614cbe5a625eab3b3aebfdf43e7b857f25f829\n",
            "  Running setup.py bdist_wheel for pypif ... \u001b[?25l-\b \b\\\b \bdone\n",
            "\u001b[?25h  Stored in directory: /root/.cache/pip/wheels/ea/d3/48/e771cb9fc4561f0ec41a867c9e6ead88b085cb398560386b4c\n",
            "  Running setup.py bdist_wheel for retrying ... \u001b[?25l-\b \bdone\n",
            "\u001b[?25h  Stored in directory: /root/.cache/pip/wheels/d7/a9/33/acc7b709e2a35caa7d4cae442f6fe6fbf2c43f80823d46460c\n",
            "  Running setup.py bdist_wheel for globus-sdk ... \u001b[?25l-\b \b\\\b \bdone\n",
            "\u001b[?25h  Stored in directory: /root/.cache/pip/wheels/fd/81/28/fefb610a03af7a2174a78785478cf918429646f05169ce54e8\n",
            "  Running setup.py bdist_wheel for globus-nexus-client ... \u001b[?25l-\b \bdone\n",
            "\u001b[?25h  Stored in directory: /root/.cache/pip/wheels/eb/dc/a7/997791f89b4be286c9acfcaf0770147e8e32d4b60e7d334641\n",
            "  Running setup.py bdist_wheel for pycparser ... \u001b[?25l-\b \b\\\b \bdone\n",
            "\u001b[?25h  Stored in directory: /root/.cache/pip/wheels/c0/a1/27/5ba234bd77ea5a290cbf6d675259ec52293193467a12ef1f46\n",
            "Successfully built matminer pymatgen pint citrination-client pydispatcher tabulate pypif retrying globus-sdk globus-nexus-client pycparser\n",
            "Installing collected packages: ruamel.yaml, monty, scipy, pydispatcher, tabulate, spglib, palettable, pymatgen, pymongo, pint, pypif, citrination-client, retrying, plotly, pycparser, cffi, asn1crypto, cryptography, pyjwt, globus-sdk, globus-nexus-client, mdf-toolbox, mdf-forge, matminer\n",
            "  Found existing installation: scipy 0.19.1\n",
            "    Uninstalling scipy-0.19.1:\n",
            "      Successfully uninstalled scipy-0.19.1\n",
            "  Found existing installation: plotly 1.12.12\n",
            "    Uninstalling plotly-1.12.12:\n",
            "      Successfully uninstalled plotly-1.12.12\n",
            "Successfully installed asn1crypto-0.24.0 cffi-1.11.5 citrination-client-4.1.4 cryptography-2.3.1 globus-nexus-client-0.2.8 globus-sdk-1.6.0 matminer-0.4.1 mdf-forge-0.6.3 mdf-toolbox-0.2.6 monty-1.0.3 palettable-3.1.1 pint-0.8.1 plotly-3.2.0 pycparser-2.18 pydispatcher-2.0.5 pyjwt-1.6.4 pymatgen-2018.9.12 pymongo-3.7.1 pypif-2.1.0 retrying-1.3.3 ruamel.yaml-0.15.66 scipy-1.1.0 spglib-1.10.4.11 tabulate-0.8.2\n"
          ],
          "name": "stdout"
        }
      ]
    },
    {
      "metadata": {
        "id": "95ET9_sL3ede",
        "colab_type": "code",
        "colab": {}
      },
      "cell_type": "code",
      "source": [
        "import numpy as np \n",
        "import pandas as pd\n",
        "\n",
        "from sklearn.linear_model import LinearRegression\n",
        "from sklearn.preprocessing import PolynomialFeatures\n",
        "from sklearn.ensemble import RandomForestRegressor\n",
        "from sklearn.pipeline import Pipeline  \n",
        "from sklearn import decomposition\n",
        "from sklearn.model_selection import train_test_split\n",
        "\n",
        "import matplotlib.pyplot as plt"
      ],
      "execution_count": 0,
      "outputs": []
    },
    {
      "metadata": {
        "id": "LTdycBYKY8p1",
        "colab_type": "code",
        "colab": {}
      },
      "cell_type": "code",
      "source": [
        "\n",
        "from matminer.data_retrieval.retrieve_MP import MPDataRetrieval\n",
        "\n",
        "from pymatgen import MPRester\n",
        "from pymatgen.core.composition import Composition\n",
        "from pymatgen.core.molecular_orbitals import MolecularOrbitals\n",
        "from pymatgen.core.periodic_table import get_el_sp\n",
        "from pymatgen.core import periodic_table\n",
        "\n",
        "mpdr = MPDataRetrieval(api_key)"
      ],
      "execution_count": 0,
      "outputs": []
    },
    {
      "metadata": {
        "id": "WQ1VkT4kcRw8",
        "colab_type": "code",
        "colab": {}
      },
      "cell_type": "code",
      "source": [
        "def get_atom_feats(pretty_formula):\n",
        "  '''get atomic features'''\n",
        "\n",
        "  comp = Composition(pretty_formula)\n",
        "  elem,fracs = zip(*comp.fractional_composition.items())\n",
        "\n",
        "  v = []\n",
        "\n",
        "  # 0. average row in the periodic table\n",
        "  v.append(sum([el.row*fr for (el,fr) in zip(elem,fracs)]))\n",
        "  \n",
        "  # 1. average column in the periodic table\n",
        "  v.append(sum([el.group*fr for (el,fr) in zip(elem,fracs)]))\n",
        "\n",
        "  # 2. average atomic number\n",
        "  v.append(sum([el.number*fr for (el,fr) in zip(elem,fracs)]))\n",
        "\n",
        "  # 3. average electronegativity\n",
        "  v.append(sum([el.X*fr for (el,fr) in zip(elem,fracs)]))\n",
        "    \n",
        "  # 4. average atomic mass\n",
        "  v.append(sum([el.data['Atomic mass']*fr for (el,fr) in zip(elem,fracs)]))\n",
        "\n",
        "#   # 5. average atomic radius\n",
        "#   v.append(sum([el.data['Atomic radius']*fr for (el,fr) in zip(elem,fracs)]))\n",
        "\n",
        "   \n",
        "  # ------------------------------------------------------------------------\n",
        "  \n",
        "  # 5. average ionic radius\n",
        "  v.append(sum([el.average_ionic_radius*fr for (el,fr) in zip(elem,fracs)]))\n",
        "\n",
        "  # 6. average max oxidation state\n",
        "  v.append(sum([el.max_oxidation_state*fr for (el,fr) in zip(elem,fracs)]))\n",
        "\n",
        "  # 7. average min oxidation state\n",
        "  v.append(sum([el.min_oxidation_state*fr for (el,fr) in zip(elem,fracs)]))\n",
        "\n",
        "  return v"
      ],
      "execution_count": 0,
      "outputs": []
    },
    {
      "metadata": {
        "id": "AZQNE9Tqw7CY",
        "colab_type": "code",
        "colab": {}
      },
      "cell_type": "code",
      "source": [
        "def encode_chem(pretty_formula):\n",
        "  '''encode chemistry'''\n",
        "  \n",
        "  comp = Composition(pretty_formula).fractional_composition\n",
        "  \n",
        "  pt = periodic_table\n",
        "  elem_list = dir(pt.Element)\n",
        "  a = [s for s in elem_list if \"_\" not in s]\n",
        "  v = [0.0]*len(a)\n",
        "  \n",
        "  elements = comp.elements\n",
        "  \n",
        "  for el in elements:\n",
        "    v[elem_list.index(el.name)] = comp[el]\n",
        "\n",
        "  return v"
      ],
      "execution_count": 0,
      "outputs": []
    },
    {
      "metadata": {
        "id": "BBEQzQF_j0xx",
        "colab_type": "code",
        "colab": {}
      },
      "cell_type": "code",
      "source": [
        "def get_crys_feats(mp_id):\n",
        "  \n",
        "  v = []    \n",
        "  v.append(crys_data.loc[mp_id]['initial_structure']['lattice']['a'])\n",
        "  v.append(crys_data.loc[mp_id]['initial_structure']['lattice']['b'])\n",
        "  v.append(crys_data.loc[mp_id]['initial_structure']['lattice']['c'])\n",
        "  \n",
        "  v.append(crys_data.loc[mp_id]['initial_structure']['lattice']['volume'])\n",
        "  \n",
        "  return v"
      ],
      "execution_count": 0,
      "outputs": []
    },
    {
      "metadata": {
        "id": "7ftcFG0KZeBR",
        "colab_type": "code",
        "colab": {}
      },
      "cell_type": "code",
      "source": [
        "def get_crys_feats_new(mp_id):\n",
        "  \n",
        "  crys_data = mpdr.get_dataframe({\"material_id\": mp_id}, ['pretty_formula','initial_structure'])  \n",
        "  \n",
        "  v = []    \n",
        "  v.append(crys_data.loc[mp_id]['initial_structure']['lattice']['a'])\n",
        "  v.append(crys_data.loc[mp_id]['initial_structure']['lattice']['b'])\n",
        "  v.append(crys_data.loc[mp_id]['initial_structure']['lattice']['c'])\n",
        "  \n",
        "  v.append(crys_data.loc[mp_id]['initial_structure']['lattice']['volume'])\n",
        "  \n",
        "  return v"
      ],
      "execution_count": 0,
      "outputs": []
    },
    {
      "metadata": {
        "id": "2SWLwRYXq_ML",
        "colab_type": "code",
        "colab": {
          "base_uri": "https://localhost:8080/",
          "height": 34
        },
        "outputId": "900a993b-c0f1-4d8e-8e23-009636609ca3"
      },
      "cell_type": "code",
      "source": [
        "# # All entries with BG > 0.5\n",
        "# thr = 0.5\n",
        "# data_bg = mpdr.get_dataframe({\"band_gap\": {\"$gt\": thr}}, ['pretty_formula','band_gap'])\n",
        "# print(\"There are {} entries on MP with a band gap larger than {}\".format(data_bg['band_gap'].count(),thr))\n",
        "\n",
        "# Li Fe O system\n",
        "thr = 0.1\n",
        "prop = \"band_gap\"\n",
        "prop_data = mpdr.get_dataframe(criteria={\n",
        "                                       \"elements\": {\"$all\": [\"Li\", \"Fe\", \"O\"]},\n",
        "                                       prop: {\"$exists\": True},\n",
        "                                        \"e_above_hull\": {\"$lt\": 0.5},\n",
        "                                       (\"{}.warnings\".format(prop)): None,\n",
        "                                       prop: {\"$gt\": thr}}, \n",
        "                             properties=['pretty_formula',prop])\n",
        "print(\"There are {} entries on MP with Li Fe O elements\".format(prop_data[prop].count()))\n",
        "\n",
        "y = prop_data[prop].values"
      ],
      "execution_count": 9,
      "outputs": [
        {
          "output_type": "stream",
          "text": [
            "There are 1758 entries on MP with Li Fe O elements\n"
          ],
          "name": "stdout"
        }
      ]
    },
    {
      "metadata": {
        "id": "v8eHZbwQlFLb",
        "colab_type": "code",
        "colab": {}
      },
      "cell_type": "code",
      "source": [
        "# Load crystal structures\n",
        "\n",
        "# initialize dataframe\n",
        "crys_data = pd.DataFrame(columns=['pretty_formula','initial_structure'])\n",
        "\n",
        "# lists of mp ids\n",
        "chunk_size = 1000\n",
        "mp_ids = prop_data.index.tolist()\n",
        "sublists = [mp_ids[i:i+chunk_size] for i in range(0, len(mp_ids), chunk_size)]\n",
        "\n",
        "# query structures from mp\n",
        "for sublist in sublists:\n",
        "  crys_data = crys_data.append(mpdr.get_dataframe({\"material_id\":{\"$in\": sublist}}, ['pretty_formula','initial_structure']))\n",
        "  \n",
        "# # test features\n",
        "# v1 = get_atom_feats('FeO')\n",
        "# print(len(v1))\n",
        "# v2 = encode_chem('FeO')\n",
        "# print(len(v2))\n",
        "# v3 = get_crys_feats(mp_ids[0])\n",
        "# print(len(v3))"
      ],
      "execution_count": 0,
      "outputs": []
    },
    {
      "metadata": {
        "id": "56CtNrXUicb8",
        "colab_type": "code",
        "colab": {
          "base_uri": "https://localhost:8080/",
          "height": 34
        },
        "outputId": "b77da8a5-f000-4635-9dfa-b721d01e452a"
      },
      "cell_type": "code",
      "source": [
        "# Get features\n",
        "x = np.zeros((len(y),115))\n",
        "\n",
        "c = 0\n",
        "for index, row in prop_data.iterrows():\n",
        "\n",
        "  comp = row['pretty_formula']\n",
        "  \n",
        "  v1 = get_atom_feats(comp)\n",
        "  v2 = encode_chem(comp)\n",
        "  v3 = get_crys_feats(index)\n",
        "  \n",
        "  x[c,:] = v1+v2+v3\n",
        "  c += 1\n",
        "  if c % 1000 == 0:\n",
        "    print('Done with ', c)\n",
        "\n",
        "# replace nans with zeros\n",
        "x = np.nan_to_num(x)"
      ],
      "execution_count": 14,
      "outputs": [
        {
          "output_type": "stream",
          "text": [
            "Done with  1000\n"
          ],
          "name": "stdout"
        }
      ]
    },
    {
      "metadata": {
        "id": "7L_8PnP1wjCU",
        "colab_type": "code",
        "colab": {}
      },
      "cell_type": "code",
      "source": [
        "# Split data into test and train\n",
        "x_train, x_test, y_train, y_test = train_test_split(x, y, test_size=0.05, random_state=42)"
      ],
      "execution_count": 0,
      "outputs": []
    },
    {
      "metadata": {
        "id": "d5vg3rUo2gzl",
        "colab_type": "code",
        "colab": {
          "base_uri": "https://localhost:8080/",
          "height": 51
        },
        "outputId": "70f217d1-2d37-46ed-8c90-0e1a28e36a14"
      },
      "cell_type": "code",
      "source": [
        "# Polynomial regression \n",
        "\n",
        "max_deg = 2\n",
        "\n",
        "property_linker = LinearRegression()\n",
        "linker = Pipeline([('poly', PolynomialFeatures(degree=max_deg)),('connector', property_linker)])\n",
        "linker.fit(x_train, y_train)\n",
        "\n",
        "y_hat_train = linker.predict(x_train)\n",
        "y_hat_test  = linker.predict(x_test)\n",
        "\n",
        "mae_test = np.mean(abs(y_hat_test-y_test))/np.mean(y_test)\n",
        "print(mae_test)\n",
        "\n",
        "mae_train = np.mean(abs(y_hat_train-y_train))/np.mean(y_train)\n",
        "print(mae_train)\n",
        "\n",
        "# plt.scatter(y_train, y_hat_train, c=\"blue\")\n",
        "# plt.scatter(y_test, y_hat_test, c=\"red\")\n",
        "# plt.axis('equal')"
      ],
      "execution_count": 16,
      "outputs": [
        {
          "output_type": "stream",
          "text": [
            "115.35246714491737\n",
            "0.14841721023096335\n"
          ],
          "name": "stdout"
        }
      ]
    },
    {
      "metadata": {
        "id": "dQuRDac_6ICV",
        "colab_type": "code",
        "colab": {
          "base_uri": "https://localhost:8080/",
          "height": 398
        },
        "outputId": "650a4626-eba0-4620-cfb0-e7bb8057fee0"
      },
      "cell_type": "code",
      "source": [
        "# Random Forest\n",
        "\n",
        "rf = RandomForestRegressor(n_estimators=50,\n",
        "                           oob_score=True, random_state=42, verbose=0)\n",
        "\n",
        "rf.fit(x_train,y_train)\n",
        "\n",
        "y_hat_train = rf.predict(x_train) \n",
        "y_hat_test = rf.predict(x_test) \n",
        "\n",
        "mae_train = np.mean(abs(y_hat_train-y_train))/np.mean(y_train)\n",
        "print('Train error: %.3f ' % mae_train)\n",
        "\n",
        "mae_test = np.mean(abs(y_hat_test-y_test))/np.mean(y_test)\n",
        "print('Test error : %.3f ' % mae_test)\n",
        "\n",
        "plt.scatter(y_train, y_hat_train, c=\"blue\")\n",
        "plt.scatter(y_test, y_hat_test, c=\"red\")"
      ],
      "execution_count": 19,
      "outputs": [
        {
          "output_type": "stream",
          "text": [
            "Train error: 0.057 \n",
            "Test error : 0.154 \n"
          ],
          "name": "stdout"
        },
        {
          "output_type": "execute_result",
          "data": {
            "text/plain": [
              "<matplotlib.collections.PathCollection at 0x7f7766396cc0>"
            ]
          },
          "metadata": {
            "tags": []
          },
          "execution_count": 19
        },
        {
          "output_type": "display_data",
          "data": {
            "image/png": "[encoded data removed]",
            "text/plain": [
              "<matplotlib.figure.Figure at 0x7f776640a9b0>"
            ]
          },
          "metadata": {
            "tags": []
          }
        }
      ]
    },
    {
      "metadata": {
        "id": "MCyvVq_YJfWh",
        "colab_type": "code",
        "colab": {
          "base_uri": "https://localhost:8080/",
          "height": 34
        },
        "outputId": "dd7bda92-1a35-4275-9b8c-71822ba0b685"
      },
      "cell_type": "code",
      "source": [
        "imp = rf.feature_importances_\n",
        "\n",
        "idx = imp>=5.e-2\n",
        "np.count_nonzero(idx)\n",
        "ind = np.nonzero(idx)\n",
        "ind"
      ],
      "execution_count": 20,
      "outputs": [
        {
          "output_type": "execute_result",
          "data": {
            "text/plain": [
              "(array([ 0,  3,  4,  5, 38, 72]),)"
            ]
          },
          "metadata": {
            "tags": []
          },
          "execution_count": 20
        }
      ]
    },
    {
      "metadata": {
        "id": "hi67ibM0i5LD",
        "colab_type": "code",
        "colab": {}
      },
      "cell_type": "code",
      "source": [
        ""
      ],
      "execution_count": 0,
      "outputs": []
    }
  ]
}