{
  "nbformat": 4,
  "nbformat_minor": 0,
  "metadata": {
    "colab": {
      "name": "model_dev_workflow",
      "version": "0.3.2",
      "provenance": [],
      "collapsed_sections": []
    },
    "kernelspec": {
      "name": "python3",
      "display_name": "Python 3"
    }
  },
  "cells": [
    {
      "metadata": {
        "id": "kjTTMRNUF4Ts",
        "colab_type": "text"
      },
      "cell_type": "markdown",
      "source": [
        "# User Input"
      ]
    },
    {
      "metadata": {
        "id": "SC25O0Yv_KvP",
        "colab_type": "code",
        "colab": {},
        "cellView": "form"
      },
      "cell_type": "code",
      "source": [
        "#@title Database\n",
        "\n",
        "api_key = '' #@param {type:\"string\"}\n",
        "pname = 'band_gap' #@param {type:\"string\"}\n",
        "\n",
        "dataset = 'LiFeO_bandgap' #@param {type:\"string\"}"
      ],
      "execution_count": 0,
      "outputs": []
    },
    {
      "metadata": {
        "id": "tfRj7WGKBnbY",
        "colab_type": "code",
        "colab": {},
        "cellView": "form"
      },
      "cell_type": "code",
      "source": [
        "#@title Filtering\n",
        "\n",
        "chemistry = 'Li,Fe,O' #@param {type:\"string\"}\n",
        "stab = 0.5 #@param {type:\"number\"}\n",
        "pmin = 0.5 #@param {type:\"number\"}\n",
        "pmax = None #@param {type:\"raw\"}\n",
        "\n",
        "elems = list(chemistry.split(\",\"))"
      ],
      "execution_count": 0,
      "outputs": []
    },
    {
      "metadata": {
        "id": "uHkSOIWLDolN",
        "colab_type": "text"
      },
      "cell_type": "markdown",
      "source": [
        "# Import packages"
      ]
    },
    {
      "metadata": {
        "id": "fYkQIuDNeosp",
        "colab_type": "code",
        "colab": {
          "base_uri": "https://localhost:8080/",
          "height": 2255
        },
        "outputId": "b2c2a064-f6ac-4c68-8818-35c9cb075c55"
      },
      "cell_type": "code",
      "source": [
        "try:\n",
        "  import matminer\n",
        "except ModuleNotFoundError:\n",
        "  !pip install matminer"
      ],
      "execution_count": 4,
      "outputs": [
        {
          "output_type": "stream",
          "text": [
            "Collecting matminer\n",
            "\u001b[?25l  Downloading https://files.pythonhosted.org/packages/3b/bc/6a96bc133c62958930e44c4d441b678739b60cfe02bcfe68abd8f0f18c79/matminer-0.4.1.tar.gz (8.4MB)\n",
            "\u001b[K    100% |████████████████████████████████| 8.4MB 3.9MB/s \n",
            "\u001b[?25hCollecting pymatgen>=2018.8.7 (from matminer)\n",
            "\u001b[?25l  Downloading https://files.pythonhosted.org/packages/c2/f3/eb2dbb17d09b092820ba6ed1436547724d238bf0f1a08ffc910f859b589e/pymatgen-2018.9.12.tar.gz (1.8MB)\n",
            "\u001b[K    100% |████████████████████████████████| 1.8MB 17.2MB/s \n",
            "\u001b[?25hRequirement already satisfied: tqdm>=4.14.0 in /usr/local/lib/python3.6/dist-packages (from matminer) (4.26.0)\n",
            "Requirement already satisfied: pandas>=0.20.1 in /usr/local/lib/python3.6/dist-packages (from matminer) (0.22.0)\n",
            "Collecting pymongo>=3.4.0 (from matminer)\n",
            "\u001b[?25l  Downloading https://files.pythonhosted.org/packages/11/88/dd1f8c4281a60791b043f55e338d0521049208f21e3de19ddc9c160dbbef/pymongo-3.7.1-cp36-cp36m-manylinux1_x86_64.whl (405kB)\n",
            "\u001b[K    100% |████████████████████████████████| 409kB 24.2MB/s \n",
            "\u001b[?25hCollecting pint>=0.8.1 (from matminer)\n",
            "\u001b[?25l  Downloading https://files.pythonhosted.org/packages/1e/40/6938f7d544eef208a8183c2c80624289e8a4f4e0aea43f4658b9527077de/Pint-0.8.1.tar.gz (162kB)\n",
            "\u001b[K    100% |████████████████████████████████| 163kB 29.5MB/s \n",
            "\u001b[?25hRequirement already satisfied: six>=1.10.0 in /usr/local/lib/python3.6/dist-packages (from matminer) (1.11.0)\n",
            "Collecting citrination-client>=4.0.0 (from matminer)\n",
            "\u001b[?25l  Downloading https://files.pythonhosted.org/packages/23/5e/c61ad304aceb9c0ad112f878ebe91fb302047611e37ffe7b9d3deb519b7c/citrination-client-4.1.4.tar.gz (40kB)\n",
            "\u001b[K    100% |████████████████████████████████| 40kB 16.6MB/s \n",
            "\u001b[?25hCollecting plotly>=2.4.1 (from matminer)\n",
            "\u001b[?25l  Downloading https://files.pythonhosted.org/packages/25/e6/716d30f51604daedaf12b1064e1d1e48d1c0a224ac41a83496b39862124d/plotly-3.2.1-py2.py3-none-any.whl (37.0MB)\n",
            "\u001b[K    100% |████████████████████████████████| 37.0MB 851kB/s \n",
            "\u001b[?25hCollecting mdf_forge>=0.6.1 (from matminer)\n",
            "  Downloading https://files.pythonhosted.org/packages/71/4c/187871258dca081084f2ddf2541e0cb77df17a9ecf98fd9e5853c860bfc3/mdf_forge-0.6.3-py2.py3-none-any.whl\n",
            "Requirement already satisfied: scikit-learn>=0.19.0 in /usr/local/lib/python3.6/dist-packages (from matminer) (0.19.2)\n",
            "Requirement already satisfied: sympy>=1.1.1 in /usr/local/lib/python3.6/dist-packages (from matminer) (1.1.1)\n",
            "Requirement already satisfied: numpy>=1.14.3 in /usr/local/lib/python3.6/dist-packages (from pymatgen>=2018.8.7->matminer) (1.14.5)\n",
            "Requirement already satisfied: requests in /usr/local/lib/python3.6/dist-packages (from pymatgen>=2018.8.7->matminer) (2.18.4)\n",
            "Collecting ruamel.yaml>=0.15.6 (from pymatgen>=2018.8.7->matminer)\n",
            "\u001b[?25l  Downloading https://files.pythonhosted.org/packages/a2/71/c11c959909beadba93435aa4eab3b8519ca9c36843437f2b17e9650df053/ruamel.yaml-0.15.66-cp36-cp36m-manylinux1_x86_64.whl (645kB)\n",
            "\u001b[K    100% |████████████████████████████████| 655kB 19.2MB/s \n",
            "\u001b[?25hCollecting monty>=0.9.6 (from pymatgen>=2018.8.7->matminer)\n",
            "\u001b[?25l  Downloading https://files.pythonhosted.org/packages/f1/44/f92ae375c030a3a98201d6d7ecdae9b74c39bdc58c05bf163db71c7dddbf/monty-1.0.3-py3-none-any.whl (61kB)\n",
            "\u001b[K    100% |████████████████████████████████| 61kB 22.1MB/s \n",
            "\u001b[?25hCollecting scipy>=1.0.1 (from pymatgen>=2018.8.7->matminer)\n",
            "\u001b[?25l  Downloading https://files.pythonhosted.org/packages/a8/0b/f163da98d3a01b3e0ef1cab8dd2123c34aee2bafbb1c5bffa354cc8a1730/scipy-1.1.0-cp36-cp36m-manylinux1_x86_64.whl (31.2MB)\n",
            "\u001b[K    100% |████████████████████████████████| 31.2MB 1.5MB/s \n",
            "\u001b[?25hCollecting pydispatcher>=2.0.5 (from pymatgen>=2018.8.7->matminer)\n",
            "  Downloading https://files.pythonhosted.org/packages/cd/37/39aca520918ce1935bea9c356bcbb7ed7e52ad4e31bff9b943dfc8e7115b/PyDispatcher-2.0.5.tar.gz\n",
            "Collecting tabulate (from pymatgen>=2018.8.7->matminer)\n",
            "\u001b[?25l  Downloading https://files.pythonhosted.org/packages/12/c2/11d6845db5edf1295bc08b2f488cf5937806586afe42936c3f34c097ebdc/tabulate-0.8.2.tar.gz (45kB)\n",
            "\u001b[K    100% |████████████████████████████████| 51kB 19.1MB/s \n",
            "\u001b[?25hCollecting spglib>=1.9.9.44 (from pymatgen>=2018.8.7->matminer)\n",
            "\u001b[?25l  Downloading https://files.pythonhosted.org/packages/ad/ab/7fe8ad0b796853bfe4b812287c6f31da367cfa19a4567a10c6deb4385601/spglib-1.10.4.11-cp36-cp36m-manylinux1_x86_64.whl (237kB)\n",
            "\u001b[K    100% |████████████████████████████████| 245kB 17.5MB/s \n",
            "\u001b[?25hRequirement already satisfied: networkx>=2.1 in /usr/local/lib/python3.6/dist-packages (from pymatgen>=2018.8.7->matminer) (2.1)\n",
            "Requirement already satisfied: matplotlib>=1.5 in /usr/local/lib/python3.6/dist-packages (from pymatgen>=2018.8.7->matminer) (2.1.2)\n",
            "Collecting palettable>=2.1.1 (from pymatgen>=2018.8.7->matminer)\n",
            "\u001b[?25l  Downloading https://files.pythonhosted.org/packages/56/8a/84537c0354f0d1f03bf644b71bf8e0a50db9c1294181905721a5f3efbf66/palettable-3.1.1-py2.py3-none-any.whl (77kB)\n",
            "\u001b[K    100% |████████████████████████████████| 81kB 18.5MB/s \n",
            "\u001b[?25hRequirement already satisfied: pytz>=2011k in /usr/local/lib/python3.6/dist-packages (from pandas>=0.20.1->matminer) (2018.5)\n",
            "Requirement already satisfied: python-dateutil>=2 in /usr/local/lib/python3.6/dist-packages (from pandas>=0.20.1->matminer) (2.5.3)\n",
            "Collecting pypif (from citrination-client>=4.0.0->matminer)\n",
            "  Downloading https://files.pythonhosted.org/packages/a1/72/57475f26c26490c3e0f3c93fabb27a95facb28e772a71b20b672419900d0/pypif-2.1.0.tar.gz\n",
            "Requirement already satisfied: pyyaml in /usr/local/lib/python3.6/dist-packages (from citrination-client>=4.0.0->matminer) (3.13)\n",
            "Requirement already satisfied: nbformat>=4.2 in /usr/local/lib/python3.6/dist-packages (from plotly>=2.4.1->matminer) (4.4.0)\n",
            "Requirement already satisfied: decorator>=4.0.6 in /usr/local/lib/python3.6/dist-packages (from plotly>=2.4.1->matminer) (4.3.0)\n",
            "Collecting retrying>=1.3.3 (from plotly>=2.4.1->matminer)\n",
            "  Downloading https://files.pythonhosted.org/packages/44/ef/beae4b4ef80902f22e3af073397f079c96969c69b2c7d52a57ea9ae61c9d/retrying-1.3.3.tar.gz\n",
            "Collecting globus-sdk>=1.5.0 (from mdf_forge>=0.6.1->matminer)\n",
            "\u001b[?25l  Downloading https://files.pythonhosted.org/packages/f8/ae/e4adf1e8ee2bcfaa1305ec9c320f592215ffb2258db2e59363745aa1248b/globus-sdk-1.6.0.tar.gz (60kB)\n",
            "\u001b[K    100% |████████████████████████████████| 61kB 21.7MB/s \n",
            "\u001b[?25hCollecting mdf-toolbox>=0.2.0 (from mdf_forge>=0.6.1->matminer)\n",
            "  Downloading https://files.pythonhosted.org/packages/f7/86/ff1b44c369fabfafdb08704afa76b2318003718edc97aae1897099de3d27/mdf_toolbox-0.2.6-py2.py3-none-any.whl\n",
            "Requirement already satisfied: mpmath>=0.19 in /usr/local/lib/python3.6/dist-packages (from sympy>=1.1.1->matminer) (1.0.0)\n",
            "Requirement already satisfied: idna<2.7,>=2.5 in /usr/local/lib/python3.6/dist-packages (from requests->pymatgen>=2018.8.7->matminer) (2.6)\n",
            "Requirement already satisfied: chardet<3.1.0,>=3.0.2 in /usr/local/lib/python3.6/dist-packages (from requests->pymatgen>=2018.8.7->matminer) (3.0.4)\n",
            "Requirement already satisfied: certifi>=2017.4.17 in /usr/local/lib/python3.6/dist-packages (from requests->pymatgen>=2018.8.7->matminer) (2018.8.24)\n",
            "Requirement already satisfied: urllib3<1.23,>=1.21.1 in /usr/local/lib/python3.6/dist-packages (from requests->pymatgen>=2018.8.7->matminer) (1.22)\n",
            "Requirement already satisfied: pyparsing!=2.0.4,!=2.1.2,!=2.1.6,>=2.0.1 in /usr/local/lib/python3.6/dist-packages (from matplotlib>=1.5->pymatgen>=2018.8.7->matminer) (2.2.0)\n",
            "Requirement already satisfied: cycler>=0.10 in /usr/local/lib/python3.6/dist-packages (from matplotlib>=1.5->pymatgen>=2018.8.7->matminer) (0.10.0)\n",
            "Requirement already satisfied: jupyter-core in /usr/local/lib/python3.6/dist-packages (from nbformat>=4.2->plotly>=2.4.1->matminer) (4.4.0)\n",
            "Requirement already satisfied: traitlets>=4.1 in /usr/local/lib/python3.6/dist-packages (from nbformat>=4.2->plotly>=2.4.1->matminer) (4.3.2)\n",
            "Requirement already satisfied: ipython-genutils in /usr/local/lib/python3.6/dist-packages (from nbformat>=4.2->plotly>=2.4.1->matminer) (0.2.0)\n",
            "Requirement already satisfied: jsonschema!=2.5.0,>=2.4 in /usr/local/lib/python3.6/dist-packages (from nbformat>=4.2->plotly>=2.4.1->matminer) (2.6.0)\n",
            "Collecting pyjwt[crypto]<2.0.0,>=1.5.3 (from globus-sdk>=1.5.0->mdf_forge>=0.6.1->matminer)\n",
            "  Downloading https://files.pythonhosted.org/packages/93/d1/3378cc8184a6524dc92993090ee8b4c03847c567e298305d6cf86987e005/PyJWT-1.6.4-py2.py3-none-any.whl\n",
            "Collecting globus-nexus-client>=0.2.8 (from mdf-toolbox>=0.2.0->mdf_forge>=0.6.1->matminer)\n",
            "  Downloading https://files.pythonhosted.org/packages/d8/ea/cf065156bc5ffd2b57803ee414b4a720bac619e4ea49c6c9787dcff68ca9/globus-nexus-client-0.2.8.tar.gz\n",
            "Collecting cryptography>=1.4; extra == \"crypto\" (from pyjwt[crypto]<2.0.0,>=1.5.3->globus-sdk>=1.5.0->mdf_forge>=0.6.1->matminer)\n",
            "\u001b[?25l  Downloading https://files.pythonhosted.org/packages/59/32/92cade62c645756a83598edf56289e9b19aae5370642a7ce690cd06bc72f/cryptography-2.3.1-cp34-abi3-manylinux1_x86_64.whl (2.1MB)\n",
            "\u001b[K    100% |████████████████████████████████| 2.1MB 10.1MB/s \n",
            "\u001b[?25hCollecting asn1crypto>=0.21.0 (from cryptography>=1.4; extra == \"crypto\"->pyjwt[crypto]<2.0.0,>=1.5.3->globus-sdk>=1.5.0->mdf_forge>=0.6.1->matminer)\n",
            "\u001b[?25l  Downloading https://files.pythonhosted.org/packages/ea/cd/35485615f45f30a510576f1a56d1e0a7ad7bd8ab5ed7cdc600ef7cd06222/asn1crypto-0.24.0-py2.py3-none-any.whl (101kB)\n",
            "\u001b[K    100% |████████████████████████████████| 102kB 24.8MB/s \n",
            "\u001b[?25hCollecting cffi!=1.11.3,>=1.7 (from cryptography>=1.4; extra == \"crypto\"->pyjwt[crypto]<2.0.0,>=1.5.3->globus-sdk>=1.5.0->mdf_forge>=0.6.1->matminer)\n",
            "\u001b[?25l  Downloading https://files.pythonhosted.org/packages/6d/c0/47db8f624f3e4e2f3f27be03a93379d1ba16a1450a7b1aacfa0366e2c0dd/cffi-1.11.5-cp36-cp36m-manylinux1_x86_64.whl (421kB)\n",
            "\u001b[K    100% |████████████████████████████████| 430kB 23.8MB/s \n",
            "\u001b[?25hCollecting pycparser (from cffi!=1.11.3,>=1.7->cryptography>=1.4; extra == \"crypto\"->pyjwt[crypto]<2.0.0,>=1.5.3->globus-sdk>=1.5.0->mdf_forge>=0.6.1->matminer)\n",
            "\u001b[?25l  Downloading https://files.pythonhosted.org/packages/8c/2d/aad7f16146f4197a11f8e91fb81df177adcc2073d36a17b1491fd09df6ed/pycparser-2.18.tar.gz (245kB)\n",
            "\u001b[K    100% |████████████████████████████████| 256kB 17.6MB/s \n",
            "\u001b[?25hBuilding wheels for collected packages: matminer, pymatgen, pint, citrination-client, pydispatcher, tabulate, pypif, retrying, globus-sdk, globus-nexus-client, pycparser\n",
            "  Running setup.py bdist_wheel for matminer ... \u001b[?25l-\b \b\\\b \b|\b \b/\b \b-\b \b\\\b \b|\b \bdone\n",
            "\u001b[?25h  Stored in directory: /root/.cache/pip/wheels/a1/9e/88/baf9d8d0878829e42d3df7ead94d7f240095ac2c19befdb560\n",
            "  Running setup.py bdist_wheel for pymatgen ... \u001b[?25l-\b \b\\\b \b|\b \b/\b \b-\b \b\\\b \b|\b \b/\b \b-\b \b\\\b \b|\b \b/\b \b-\b \b\\\b \bdone\n",
            "\u001b[?25h  Stored in directory: /root/.cache/pip/wheels/be/dc/51/380d075d9742e8c040ad95fca3348ecf320f67282be67092a8\n",
            "  Running setup.py bdist_wheel for pint ... \u001b[?25l-\b \b\\\b \bdone\n",
            "\u001b[?25h  Stored in directory: /root/.cache/pip/wheels/b4/56/36/7c4d6a4e3660e233b95e3b0482551915cb184abca0f93ee1dd\n",
            "  Running setup.py bdist_wheel for citrination-client ... \u001b[?25l-\b \b\\\b \bdone\n",
            "\u001b[?25h  Stored in directory: /root/.cache/pip/wheels/08/aa/c4/a2ba77e50643de1a8617baae8067b3298150b231fa97be3905\n",
            "  Running setup.py bdist_wheel for pydispatcher ... \u001b[?25l-\b \bdone\n",
            "\u001b[?25h  Stored in directory: /root/.cache/pip/wheels/88/99/96/cfef6665f9cb1522ee6757ae5955feedf2fe25f1737f91fa7f\n",
            "  Running setup.py bdist_wheel for tabulate ... \u001b[?25l-\b \bdone\n",
            "\u001b[?25h  Stored in directory: /root/.cache/pip/wheels/2a/85/33/2f6da85d5f10614cbe5a625eab3b3aebfdf43e7b857f25f829\n",
            "  Running setup.py bdist_wheel for pypif ... \u001b[?25l-\b \b\\\b \bdone\n",
            "\u001b[?25h  Stored in directory: /root/.cache/pip/wheels/ea/d3/48/e771cb9fc4561f0ec41a867c9e6ead88b085cb398560386b4c\n",
            "  Running setup.py bdist_wheel for retrying ... \u001b[?25l-\b \bdone\n",
            "\u001b[?25h  Stored in directory: /root/.cache/pip/wheels/d7/a9/33/acc7b709e2a35caa7d4cae442f6fe6fbf2c43f80823d46460c\n",
            "  Running setup.py bdist_wheel for globus-sdk ... \u001b[?25l-\b \b\\\b \bdone\n",
            "\u001b[?25h  Stored in directory: /root/.cache/pip/wheels/fd/81/28/fefb610a03af7a2174a78785478cf918429646f05169ce54e8\n",
            "  Running setup.py bdist_wheel for globus-nexus-client ... \u001b[?25l-\b \bdone\n",
            "\u001b[?25h  Stored in directory: /root/.cache/pip/wheels/eb/dc/a7/997791f89b4be286c9acfcaf0770147e8e32d4b60e7d334641\n",
            "  Running setup.py bdist_wheel for pycparser ... \u001b[?25l-\b \b\\\b \bdone\n",
            "\u001b[?25h  Stored in directory: /root/.cache/pip/wheels/c0/a1/27/5ba234bd77ea5a290cbf6d675259ec52293193467a12ef1f46\n",
            "Successfully built matminer pymatgen pint citrination-client pydispatcher tabulate pypif retrying globus-sdk globus-nexus-client pycparser\n",
            "Installing collected packages: ruamel.yaml, monty, scipy, pydispatcher, tabulate, spglib, palettable, pymatgen, pymongo, pint, pypif, citrination-client, retrying, plotly, asn1crypto, pycparser, cffi, cryptography, pyjwt, globus-sdk, globus-nexus-client, mdf-toolbox, mdf-forge, matminer\n",
            "  Found existing installation: scipy 0.19.1\n",
            "    Uninstalling scipy-0.19.1:\n",
            "      Successfully uninstalled scipy-0.19.1\n",
            "  Found existing installation: plotly 1.12.12\n",
            "    Uninstalling plotly-1.12.12:\n",
            "      Successfully uninstalled plotly-1.12.12\n",
            "Successfully installed asn1crypto-0.24.0 cffi-1.11.5 citrination-client-4.1.4 cryptography-2.3.1 globus-nexus-client-0.2.8 globus-sdk-1.6.0 matminer-0.4.1 mdf-forge-0.6.3 mdf-toolbox-0.2.6 monty-1.0.3 palettable-3.1.1 pint-0.8.1 plotly-3.2.1 pycparser-2.18 pydispatcher-2.0.5 pyjwt-1.6.4 pymatgen-2018.9.12 pymongo-3.7.1 pypif-2.1.0 retrying-1.3.3 ruamel.yaml-0.15.66 scipy-1.1.0 spglib-1.10.4.11 tabulate-0.8.2\n"
          ],
          "name": "stdout"
        }
      ]
    },
    {
      "metadata": {
        "id": "1Tsm7lYG_ZLK",
        "colab_type": "code",
        "colab": {}
      },
      "cell_type": "code",
      "source": [
        "import requests\n",
        "import numpy as np \n",
        "import pandas as pd\n",
        "import pickle\n",
        "\n",
        "from sklearn.model_selection import train_test_split, GridSearchCV\n",
        "from sklearn.ensemble import RandomForestRegressor\n",
        "import matplotlib.pyplot as plt"
      ],
      "execution_count": 0,
      "outputs": []
    },
    {
      "metadata": {
        "id": "95ET9_sL3ede",
        "colab_type": "code",
        "colab": {
          "base_uri": "https://localhost:8080/",
          "height": 74
        },
        "outputId": "ccfffb6a-af73-409d-c253-f113392f126a"
      },
      "cell_type": "code",
      "source": [
        "from pymatgen.io.cif import CifParser\n",
        "from pymatgen.core.composition import Composition\n",
        "from pymatgen import Structure\n",
        "\n",
        "from matminer.data_retrieval.retrieve_MP import MPDataRetrieval\n",
        "from matminer.utils.conversions import str_to_composition\n",
        "from matminer.utils.conversions import dict_to_object\n",
        "from matminer.utils.conversions import composition_to_oxidcomposition\n",
        "\n",
        "from matminer.featurizers.structure import DensityFeatures\n",
        "from matminer.featurizers.structure import RadialDistributionFunction\n",
        "from matminer.featurizers.composition import OxidationStates\n",
        "from matminer.featurizers.composition import ValenceOrbital"
      ],
      "execution_count": 6,
      "outputs": [
        {
          "output_type": "stream",
          "text": [
            "/usr/local/lib/python3.6/dist-packages/pymatgen/io/cif.py:44: UserWarning: Please install optional dependency pybtex if youwant to extract references from CIF files.\n",
            "  warnings.warn(\"Please install optional dependency pybtex if you\"\n"
          ],
          "name": "stderr"
        }
      ]
    },
    {
      "metadata": {
        "id": "xYB4WQn8Ad_d",
        "colab_type": "code",
        "colab": {
          "base_uri": "https://localhost:8080/",
          "height": 110
        },
        "outputId": "6335d046-f9df-4113-f07d-4bfb3fefeb3d"
      },
      "cell_type": "code",
      "source": [
        "from google.colab import drive\n",
        "drive.mount('/gdrive')"
      ],
      "execution_count": 7,
      "outputs": [
        {
          "output_type": "stream",
          "text": [
            "Go to this URL in a browser: https://accounts.google.com/o/oauth2/auth?client_id=947318989803-6bn6qk8qdgf4n4g3pfee6491hc0brc4i.apps.googleusercontent.com&redirect_uri=urn%3Aietf%3Awg%3Aoauth%3A2.0%3Aoob&scope=email%20https%3A%2F%2Fwww.googleapis.com%2Fauth%2Fdocs.test%20https%3A%2F%2Fwww.googleapis.com%2Fauth%2Fdrive%20https%3A%2F%2Fwww.googleapis.com%2Fauth%2Fdrive.photos.readonly%20https%3A%2F%2Fwww.googleapis.com%2Fauth%2Fpeopleapi.readonly&response_type=code\n",
            "Enter your authorization code:\n",
            "··········\n",
            "Mounted at /gdrive\n"
          ],
          "name": "stdout"
        }
      ]
    },
    {
      "metadata": {
        "id": "XS6gcOKOQhfD",
        "colab_type": "text"
      },
      "cell_type": "markdown",
      "source": [
        "# Functions"
      ]
    },
    {
      "metadata": {
        "id": "vuzO_LjRBGcw",
        "colab_type": "text"
      },
      "cell_type": "markdown",
      "source": [
        "## Getting data"
      ]
    },
    {
      "metadata": {
        "id": "JZsLE_6N_ytG",
        "colab_type": "code",
        "colab": {}
      },
      "cell_type": "code",
      "source": [
        "def query_data(pname,api_key,path=''):\n",
        "\n",
        "  mpdr = MPDataRetrieval(api_key)\n",
        "\n",
        "  # query properties\n",
        "  props = mpdr.get_dataframe(criteria={pname: {\"$exists\": True},\n",
        "                                        \"elements\": {\"$all\": [\"Li\", \"Fe\", \"O\"]},\n",
        "                                      (\"{}.warnings\".format(pname)): None},\n",
        "                              properties=['pretty_formula',pname,'e_above_hull'])\n",
        "  print(\"There are {} entries satisfying criteria\".format(props[pname].count()))\n",
        "\n",
        "  # Load crystal structures\n",
        "  # initialize dataframe\n",
        "  structures = pd.DataFrame(columns=['structure'])\n",
        "\n",
        "  # lists of mp ids to avo\n",
        "  chunk_size = 1000\n",
        "  mp_ids = props.index.tolist()\n",
        "  sublists = [mp_ids[i:i+chunk_size] for i in range(0, len(mp_ids), chunk_size)]\n",
        "\n",
        "  # query structures \n",
        "  for sublist in sublists:\n",
        "    structures = structures.append(mpdr.get_dataframe({\"material_id\":{\"$in\": sublist}}, ['structure']))\n",
        "\n",
        "  data = pd.concat([props,structures],axis=1)\n",
        "  fname = '%s/%s.pkl' % (path,pname)\n",
        "\n",
        "  data.to_pickle(fname)\n",
        "  print('Saved file to ',fname)\n",
        "\n",
        "  return data"
      ],
      "execution_count": 0,
      "outputs": []
    },
    {
      "metadata": {
        "id": "SJYwUSp9BJfu",
        "colab_type": "text"
      },
      "cell_type": "markdown",
      "source": [
        "## Adding features"
      ]
    },
    {
      "metadata": {
        "id": "OhWYELx2BEj_",
        "colab_type": "code",
        "colab": {}
      },
      "cell_type": "code",
      "source": [
        "def add_atom_features(df):\n",
        "  \n",
        "  avg_row = []\n",
        "  avg_col = []\n",
        "  avg_num = []\n",
        "  el_neg = []\n",
        "  at_mass = []\n",
        "  at_r = []\n",
        "  io_r = []\n",
        "  \n",
        "  # loop through entries\n",
        "  for index, row in df.iterrows(): \n",
        "    \n",
        "    comp = Composition(row['pretty_formula'])\n",
        "    elem,fracs = zip(*comp.fractional_composition.items())\n",
        "\n",
        "    # 0. average row in the periodic table\n",
        "    try:\n",
        "      avg_row.append(sum([el.row*fr for (el,fr) in zip(elem,fracs)]))\n",
        "    except TypeError:\n",
        "      avg_row.append(float('nan'))\n",
        "    \n",
        "    # 1. average column in the periodic table\n",
        "    try:\n",
        "      avg_col.append(sum([el.group*fr for (el,fr) in zip(elem,fracs)]))\n",
        "    except TypeError:\n",
        "      avg_col.append(float('nan'))\n",
        "  \n",
        "    # 2. average atomic number\n",
        "    try:\n",
        "      avg_num.append(sum([el.number*fr for (el,fr) in zip(elem,fracs)]))\n",
        "    except TypeError:\n",
        "      avg_num.append(float('nan'))\n",
        "    \n",
        "    # 3. average electronegativity\n",
        "    try:\n",
        "      el_neg.append(sum([el.X*fr for (el,fr) in zip(elem,fracs)]))\n",
        "    except TypeError:\n",
        "      el_neg.append(float('nan'))\n",
        "    \n",
        "    # 4. average atomic mass\n",
        "    try:\n",
        "      at_mass.append(sum([el.data['Atomic mass']*fr for (el,fr) in zip(elem,fracs)]))\n",
        "    except TypeError:\n",
        "      at_mass.append(float('nan'))\n",
        "    \n",
        "    # 5. average atomic radius\n",
        "    try:\n",
        "      at_r.append(sum([el.data['Atomic radius']*fr for (el,fr) in zip(elem,fracs)]))\n",
        "    except TypeError:\n",
        "      at_r.append(float('nan'))\n",
        "    \n",
        "    # 6. average ionic radius\n",
        "    try:\n",
        "      io_r.append(sum([el.average_ionic_radius*fr for (el,fr) in zip(elem,fracs)]))\n",
        "    except TypeError:\n",
        "      io_r.append(float('nan'))\n",
        "      \n",
        "  df['avg row'] = pd.Series(avg_row, index=df.index)\n",
        "  df['avg column'] = pd.Series(avg_col, index=df.index)\n",
        "  df['avg num'] = pd.Series(avg_num, index=df.index)\n",
        "  df['avg el-neg'] = pd.Series(el_neg, index=df.index)\n",
        "  df['avg atom mass'] = pd.Series(at_mass, index=df.index)\n",
        "  df['avg atom radius'] = pd.Series(at_r, index=df.index)\n",
        "  df['avg ionic radius'] = pd.Series(io_r, index=df.index)\n",
        "  \n",
        "  feat_labels = ['avg row','avg column','avg num','avg el-neg',\n",
        "                 'avg atom mass','avg atom radius','avg ionic radius']\n",
        "  \n",
        "  return df\n",
        "\n",
        "def add_cs_features(df,rdf_flag=False):\n",
        "\n",
        "  df[\"composition\"] = str_to_composition(df[\"pretty_formula\"]) \n",
        "  df[\"composition_oxid\"] = composition_to_oxidcomposition(df[\"composition\"])\n",
        "  df[\"structure\"] = dict_to_object(df[\"structure\"]) \n",
        "\n",
        "  vo = ValenceOrbital()\n",
        "  df = vo.featurize_dataframe(df,\"composition\")\n",
        "\n",
        "  ox = OxidationStates()\n",
        "  df = ox.featurize_dataframe(df, \"composition_oxid\")\n",
        "  \n",
        "  # structure features\n",
        "  den = DensityFeatures()\n",
        "  df = den.featurize_dataframe(df, \"structure\")\n",
        "  \n",
        "  if rdf_flag:\n",
        "    rdf = RadialDistributionFunction(cutoff=15.0,bin_size=0.2)\n",
        "    df = rdf.featurize_dataframe(df, \"structure\") \n",
        "  \n",
        "  return df"
      ],
      "execution_count": 0,
      "outputs": []
    },
    {
      "metadata": {
        "id": "P-Bo5eacCmgq",
        "colab_type": "text"
      },
      "cell_type": "markdown",
      "source": [
        "## Contructing input vector"
      ]
    },
    {
      "metadata": {
        "id": "3q2Q91yCCP84",
        "colab_type": "code",
        "colab": {}
      },
      "cell_type": "code",
      "source": [
        "def get_xy(df,elems,pname,pmin,pmax,stab):\n",
        "\t'''Get x and y from data'''\n",
        "\n",
        "\t# filter NaNs and entries based on criteria\n",
        "\tdf = df.dropna()\n",
        "\tdf = filter_data(df,elems,pname,pmin=pmin,pmax=pmax,stab=stab)\n",
        "\n",
        "\t# exclude non-input columns\n",
        "\tlabels = ['pretty_formula',pname,'e_above_hull','structure','composition','composition_oxid','radial distribution function']\n",
        "\texclude = []\n",
        "\tfor item in labels:\n",
        "\t\tif item in df.columns.values:\n",
        "\t\t\texclude.append(item)\n",
        "  \n",
        "  \n",
        "\t# get X and Y\n",
        "\tx = df.sort_index().drop(exclude, axis=1)\n",
        "\ty = df[pname].sort_index().values\n",
        "\n",
        "\treturn x,y"
      ],
      "execution_count": 0,
      "outputs": []
    },
    {
      "metadata": {
        "id": "7QIOJqO0C1hY",
        "colab_type": "code",
        "colab": {}
      },
      "cell_type": "code",
      "source": [
        "def filter_data(df,elems,pname,pmin=None,pmax=None,stab=None):\n",
        "\t'''Filter data by criteria'''\n",
        "\n",
        "\tprint('# entries before filters: ',len(df))\n",
        "\n",
        "\t# filter by chemistry\n",
        "\tinds = np.zeros((len(elems),len(df)))\n",
        "\tfor i,item in enumerate(elems):\n",
        "\t  inds[i,:] = (df['pretty_formula'].str.contains(item))\n",
        "\t  \n",
        "\tidx = np.prod(inds,axis=0)\n",
        "\tdf = df[idx==1]\n",
        "\tprint('# entries after chemistry: ',len(df))\n",
        "\n",
        "\t# filter by property values\n",
        "\tif pmin:\n",
        "\t  df = df[df[pname] >= pmin]\n",
        "\tif pmax:\n",
        "\t  df = df[df[pname] <= pmax]\n",
        "\tprint('# entries after property: ',len(df))\n",
        "\t  \n",
        "\t# filter by stability\n",
        "\tif stab:\n",
        "\t  df = df[df['e_above_hull'] <= stab]\n",
        "\tprint('# entries after stability: ',len(df))\n",
        "\n",
        "\treturn df"
      ],
      "execution_count": 0,
      "outputs": []
    },
    {
      "metadata": {
        "id": "NLOjhOiRDwKm",
        "colab_type": "text"
      },
      "cell_type": "markdown",
      "source": [
        "## Fitting random forest model "
      ]
    },
    {
      "metadata": {
        "id": "cjHFr9mADvV1",
        "colab_type": "code",
        "colab": {}
      },
      "cell_type": "code",
      "source": [
        "def fit_forest(x,y,fast=False,lbl='Full'):\n",
        "\n",
        "  # split data\n",
        "  x_train, x_test, y_train, y_test = train_test_split(x, y, test_size=0.2, random_state=42)\n",
        "\n",
        "  # grid-search optimal parameters\n",
        "  rf = RandomForestRegressor()\n",
        "  if fast:\n",
        "    param_grid = { \n",
        "        'n_estimators'      : [10,50,100,250],\n",
        "        'max_features'      : ['auto','sqrt','log2'],\n",
        "        'min_samples_split' : [4],\n",
        "        'min_samples_leaf'  : [1]\n",
        "        }    \n",
        "  else:\n",
        "    param_grid = { \n",
        "        'n_estimators'      : [10,25,50,100,250],\n",
        "        'max_features'      : ['auto','sqrt','log2'],\n",
        "        'min_samples_split' : [2,4,8],\n",
        "        'min_samples_leaf'  : [1, 2, 5]\n",
        "        }\n",
        "  grid = GridSearchCV(rf, param_grid, n_jobs=-1, cv=5)\n",
        "  grid.fit(x_train, y_train)\n",
        "\n",
        "  print(grid.best_score_)\n",
        "  print(grid.best_params_)\n",
        "  print(grid.score(x_test, y_test))\n",
        "\n",
        "  # use optimal parameters\n",
        "  rf.set_params(**grid.best_params_)\n",
        "  rf.fit(x_train, y_train)\n",
        "\n",
        "  y_hat_train = rf.predict(x_train) \n",
        "  y_hat_test = rf.predict(x_test) \n",
        "\n",
        "  mae_train = np.mean(abs(y_hat_train-y_train))/np.mean(y_train)\n",
        "  print('%s RF, train error: %.3f' % (lbl,mae_train))\n",
        "\n",
        "  mae_test = np.mean(abs(y_hat_test-y_test))/np.mean(y_test)\n",
        "  print('%s RF, test error : %.3f' % (lbl,mae_test))\n",
        "\n",
        "  return rf\n",
        "\n",
        "def fit_model(x,y,fast=False,show=False):\n",
        "\n",
        "  # fit RF using all variables\n",
        "  print('Fitting full random forest...')\n",
        "  rf = fit_forest(x,y,fast=fast,lbl='Full')\n",
        "\n",
        "  # variable importances\n",
        "  nvar = 10\n",
        "  imp = rf.feature_importances_\n",
        "  idx = np.argsort(imp)[::-1]\n",
        "  print('%d most important variables:' % nvar)\n",
        "  print(x.columns.values[idx][0:nvar])\n",
        "\n",
        "  # prune variables\n",
        "  thr = 0.5*np.median(imp)\n",
        "  idx = imp < thr\n",
        "  exclude = list(x.columns.values[idx])\n",
        "  x_sel = x.drop(exclude, axis=1)\n",
        "  x_sel_cols = x_sel.columns.values\n",
        "  \n",
        "  # fit RF using important variables\n",
        "  print('\\nFitting pruned random forest...')\n",
        "  rf = fit_forest(x_sel,y,fast=fast,lbl='Pruned')\n",
        "  \n",
        "  print('%d pruned variables:' % len(x_sel.columns))\n",
        "  print(x_sel_cols)\n",
        "  \n",
        "  if show:\n",
        "    # plt.figure(figsize=(7, 4))\n",
        "\n",
        "    # importance chart\n",
        "    plt.subplot(121)\n",
        "    \n",
        "    ind = np.argsort(imp)[::-1]\n",
        "    plt.bar(x=x.columns.values[ind][0:nvar], height=imp[ind][0:nvar],color=(0.3,0.3,0.9))\n",
        "    plt.xticks(x.columns.values[ind][0:nvar], x.columns.values[ind][0:nvar], rotation='vertical')\n",
        "    plt.xlabel('Variables')\n",
        "    plt.ylabel('Importance')\n",
        "\n",
        "    # parity plot\n",
        "    ax = plt.subplot(122)\n",
        "    ax.set_aspect(1)\n",
        "    \n",
        "    plt.scatter(y, rf.predict(x_sel),marker='s',alpha=.25,c=(0.9,0.3,0.3))\n",
        "    plt.plot(np.arange(np.max(y)),c='gray')\n",
        "    plt.xlabel('Ground truth')\n",
        "    plt.ylabel('RF prediction')\n",
        "    \n",
        "    plt.subplots_adjust(bottom=0.25,top=0.75)\n",
        "    plt.draw()\n",
        "    plt.show()\n",
        "\n",
        "  return rf,x_sel_cols\n"
      ],
      "execution_count": 0,
      "outputs": []
    },
    {
      "metadata": {
        "id": "w8ajHUyLIZoV",
        "colab_type": "code",
        "colab": {}
      },
      "cell_type": "code",
      "source": [
        "def digest(url):\n",
        "\t'''Get structure for given url of CIF file'''\n",
        "\n",
        "\tresponse = requests.get(url)\n",
        "\tdata = response.text\n",
        "\n",
        "\tparser = CifParser.from_string(data)\n",
        "\tstructure = parser.get_structures()[0]\n",
        "\tprint('Successfuly read structure for',structure.composition)\n",
        "\n",
        "\treturn structure\n",
        "\n",
        "def get_xnew(df,x_cols):\n",
        "  '''Get feature vector for new material'''\n",
        "\n",
        "  # exclude columns non-present in x_train\n",
        "  exclude = []\n",
        "  for item in df.columns.values:\n",
        "    if item not in x_cols:\n",
        "      exclude.append(item)\n",
        "\n",
        "  # get X \n",
        "  x = df.drop(exclude, axis=1)\n",
        "  \n",
        "  return x\n",
        "\n",
        "def use_model(formula,CIF_path,mdl,x_cols):\n",
        "\t\n",
        "\t# get structure for given CIF\n",
        "\tstructure = digest(CIF_path)\n",
        "\n",
        "\t# initialize df\n",
        "\tdf = pd.DataFrame(columns=['pretty_formula','structure'])\n",
        "\n",
        "\t# fill df\n",
        "\tdf[\"pretty_formula\"] = pd.Series([formula])\n",
        "\tdf[\"structure\"] = pd.Series([structure])\n",
        "\n",
        "\t# add features\n",
        "\tdf = add_atom_features(df)\n",
        "\tdf = add_cs_features(df)\n",
        "\n",
        "\t# get x vector for new material\n",
        "\txnew = get_xnew(df,x_cols)\n",
        "\n",
        "\tynew = mdl.predict(xnew)\n",
        "\tprint('Predicted property: %.3f' % ynew)\n",
        "\n",
        "\treturn xnew,ynew\n"
      ],
      "execution_count": 0,
      "outputs": []
    },
    {
      "metadata": {
        "id": "9fYRRbSBCQY_",
        "colab_type": "text"
      },
      "cell_type": "markdown",
      "source": [
        "# Run the workflow"
      ]
    },
    {
      "metadata": {
        "id": "qSYjiiX-LVa2",
        "colab_type": "text"
      },
      "cell_type": "markdown",
      "source": [
        "### Get data from mp database"
      ]
    },
    {
      "metadata": {
        "id": "vE4ZEoNU_2Fs",
        "colab_type": "code",
        "colab": {
          "base_uri": "https://localhost:8080/",
          "height": 90
        },
        "outputId": "cfa3ff6d-7c2b-4649-aff1-e89b07bdda97"
      },
      "cell_type": "code",
      "source": [
        "%%time \n",
        "\n",
        "data = query_data(pname,api_key,'/gdrive/My Drive')"
      ],
      "execution_count": 14,
      "outputs": [
        {
          "output_type": "stream",
          "text": [
            "There are 2199 entries satisfying criteria\n",
            "Saved file to  /gdrive/My Drive/band_gap.pkl\n",
            "CPU times: user 1.64 s, sys: 162 ms, total: 1.81 s\n",
            "Wall time: 16.2 s\n"
          ],
          "name": "stdout"
        }
      ]
    },
    {
      "metadata": {
        "id": "l4nFhrbOLcXP",
        "colab_type": "text"
      },
      "cell_type": "markdown",
      "source": [
        "### Add features to data"
      ]
    },
    {
      "metadata": {
        "id": "KQH8qDOxBMbh",
        "colab_type": "code",
        "colab": {
          "base_uri": "https://localhost:8080/",
          "height": 108
        },
        "outputId": "8e85e236-4e45-48be-e13a-6d31b0cf5b2e"
      },
      "cell_type": "code",
      "source": [
        "%%time \n",
        "\n",
        "df = add_atom_features(data)\n",
        "df = add_cs_features(df)"
      ],
      "execution_count": 15,
      "outputs": [
        {
          "output_type": "stream",
          "text": [
            "ValenceOrbital: 100%|██████████| 2199/2199 [00:00<00:00, 5341.44it/s]\n",
            "OxidationStates: 100%|██████████| 2199/2199 [00:00<00:00, 5741.96it/s]\n",
            "DensityFeatures: 100%|██████████| 2199/2199 [00:09<00:00, 223.19it/s]\n"
          ],
          "name": "stderr"
        },
        {
          "output_type": "stream",
          "text": [
            "CPU times: user 28.9 s, sys: 287 ms, total: 29.2 s\n",
            "Wall time: 41.7 s\n"
          ],
          "name": "stdout"
        }
      ]
    },
    {
      "metadata": {
        "id": "uSW0X9J2LuFI",
        "colab_type": "text"
      },
      "cell_type": "markdown",
      "source": [
        "### Construct input vector"
      ]
    },
    {
      "metadata": {
        "id": "M1Y1ng04CZF6",
        "colab_type": "code",
        "colab": {
          "base_uri": "https://localhost:8080/",
          "height": 90
        },
        "outputId": "1875e61d-0af2-49a8-ae62-7539eecb1fda"
      },
      "cell_type": "code",
      "source": [
        "x,y = get_xy(df,elems,pname,pmin,pmax,stab)"
      ],
      "execution_count": 16,
      "outputs": [
        {
          "output_type": "stream",
          "text": [
            "# entries before filters:  2199\n",
            "# entries after chemistry:  2199\n",
            "# entries after property:  1656\n",
            "# entries after stability:  1655\n"
          ],
          "name": "stdout"
        }
      ]
    },
    {
      "metadata": {
        "id": "rDynwAV0LxM0",
        "colab_type": "text"
      },
      "cell_type": "markdown",
      "source": [
        "### Fit RF model"
      ]
    },
    {
      "metadata": {
        "id": "RWCjr1U5D5Ks",
        "colab_type": "code",
        "colab": {
          "base_uri": "https://localhost:8080/",
          "height": 828
        },
        "outputId": "7dc060f7-6d72-4dde-9855-f4edc18000b0"
      },
      "cell_type": "code",
      "source": [
        "%%time \n",
        "\n",
        "mdl,x_cols = fit_model(x,y,fast=True,show=True)"
      ],
      "execution_count": 17,
      "outputs": [
        {
          "output_type": "stream",
          "text": [
            "Fitting full random forest...\n",
            "0.7799204648929767\n",
            "{'max_features': 'sqrt', 'min_samples_leaf': 1, 'min_samples_split': 4, 'n_estimators': 100}\n",
            "0.8077281017398159\n",
            "Full RF, train error: 0.061\n",
            "Full RF, test error : 0.123\n",
            "10 most important variables:\n",
            "['frac d valence electrons' 'avg d valence electrons'\n",
            " 'frac p valence electrons' 'density' 'avg atom mass' 'avg ionic radius'\n",
            " 'avg row' 'avg num' 'frac s valence electrons' 'avg atom radius']\n",
            "\n",
            "Fitting pruned random forest...\n",
            "0.7783761804618229\n",
            "{'max_features': 'log2', 'min_samples_leaf': 1, 'min_samples_split': 4, 'n_estimators': 250}\n",
            "0.8106145315578738\n",
            "Pruned RF, train error: 0.059\n",
            "Pruned RF, test error : 0.123\n",
            "17 pruned variables:\n",
            "['avg row' 'avg column' 'avg num' 'avg el-neg' 'avg atom mass'\n",
            " 'avg atom radius' 'avg ionic radius' 'avg s valence electrons'\n",
            " 'avg p valence electrons' 'avg d valence electrons'\n",
            " 'frac s valence electrons' 'frac p valence electrons'\n",
            " 'frac d valence electrons' 'std_dev oxidation state' 'density' 'vpa'\n",
            " 'packing fraction']\n"
          ],
          "name": "stdout"
        },
        {
          "output_type": "display_data",
          "data": {
            "image/png": "[encoded data removed]",
            "text/plain": [
              "<matplotlib.figure.Figure at 0x7f2f6c2277f0>"
            ]
          },
          "metadata": {
            "tags": []
          }
        },
        {
          "output_type": "stream",
          "text": [
            "CPU times: user 3.67 s, sys: 453 ms, total: 4.12 s\n",
            "Wall time: 46.3 s\n"
          ],
          "name": "stdout"
        }
      ]
    },
    {
      "metadata": {
        "id": "IHI6i9xxMB-g",
        "colab_type": "text"
      },
      "cell_type": "markdown",
      "source": [
        "### Estimate the property of new material"
      ]
    },
    {
      "metadata": {
        "id": "HX_PqHByiq1F",
        "colab_type": "code",
        "colab": {},
        "cellView": "form"
      },
      "cell_type": "code",
      "source": [
        "#@title New material\n",
        "\n",
        "formula = 'Si' #@param {type:\"string\"}\n",
        "CIF_path = '' #@param {type:\"string\"}\n"
      ],
      "execution_count": 0,
      "outputs": []
    },
    {
      "metadata": {
        "id": "jKqhyGbpv4dj",
        "colab_type": "code",
        "colab": {
          "base_uri": "https://localhost:8080/",
          "height": 108
        },
        "outputId": "fc57e273-0767-401a-dbb9-5a81765f8e26"
      },
      "cell_type": "code",
      "source": [
        "xnew,ynew = use_model(formula,CIF_path,mdl,x_cols)"
      ],
      "execution_count": 18,
      "outputs": [
        {
          "output_type": "stream",
          "text": [
            "\rValenceOrbital:   0%|          | 0/1 [00:00<?, ?it/s]"
          ],
          "name": "stderr"
        },
        {
          "output_type": "stream",
          "text": [
            "Successfuly read structure for Si2\n"
          ],
          "name": "stdout"
        },
        {
          "output_type": "stream",
          "text": [
            "ValenceOrbital: 100%|██████████| 1/1 [00:00<00:00, 38.65it/s]\n",
            "OxidationStates: 100%|██████████| 1/1 [00:00<00:00, 37.43it/s]\n",
            "DensityFeatures: 100%|██████████| 1/1 [00:00<00:00, 41.72it/s]\n"
          ],
          "name": "stderr"
        },
        {
          "output_type": "stream",
          "text": [
            "Predicted property: 2.320\n"
          ],
          "name": "stdout"
        }
      ]
    }
  ]
}