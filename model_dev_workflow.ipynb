{
  "nbformat": 4,
  "nbformat_minor": 0,
  "metadata": {
    "colab": {
      "name": "model_dev_workflow",
      "version": "0.3.2",
      "provenance": [],
      "collapsed_sections": []
    },
    "kernelspec": {
      "name": "python3",
      "display_name": "Python 3"
    }
  },
  "cells": [
    {
      "metadata": {
        "id": "kjTTMRNUF4Ts",
        "colab_type": "text"
      },
      "cell_type": "markdown",
      "source": [
        "# User Input"
      ]
    },
    {
      "metadata": {
        "id": "SC25O0Yv_KvP",
        "colab_type": "code",
        "colab": {},
        "cellView": "form"
      },
      "cell_type": "code",
      "source": [
        "#@title Database\n",
        "\n",
        "api_key = '' #@param {type:\"string\"}\n",
        "pname = 'band_gap' #@param {type:\"string\"}\n"
      ],
      "execution_count": 0,
      "outputs": []
    },
    {
      "metadata": {
        "id": "j0-mxfKOTdVm",
        "colab_type": "code",
        "colab": {},
        "cellView": "form"
      },
      "cell_type": "code",
      "source": [
        "#@title Save data locally?\n",
        "\n",
        "save_flag = False #@param {type:\"boolean\"}\n",
        "\n",
        "dpath = '' #@param {type:\"string\"}\n",
        "dname = '' #@param {type:\"string\"}\n",
        "\n",
        "if dname == None or dname == '':\n",
        "  dname = pname\n",
        "\n",
        "if dpath == None:\n",
        "  dpath = ''"
      ],
      "execution_count": 0,
      "outputs": []
    },
    {
      "metadata": {
        "id": "tfRj7WGKBnbY",
        "colab_type": "code",
        "colab": {},
        "cellView": "form"
      },
      "cell_type": "code",
      "source": [
        "#@title Filtering\n",
        "\n",
        "chemistry = 'Li,Fe,O' #@param {type:\"string\"}\n",
        "stab = 0.5 #@param {type:\"number\"}\n",
        "pmin = 0.5 #@param {type:\"number\"}\n",
        "pmax = None #@param {type:\"raw\"}\n",
        "\n",
        "elems = list(chemistry.split(\",\"))"
      ],
      "execution_count": 0,
      "outputs": []
    },
    {
      "metadata": {
        "id": "uHkSOIWLDolN",
        "colab_type": "text"
      },
      "cell_type": "markdown",
      "source": [
        "# Import packages"
      ]
    },
    {
      "metadata": {
        "id": "fYkQIuDNeosp",
        "colab_type": "code",
        "colab": {}
      },
      "cell_type": "code",
      "source": [
        "try:\n",
        "  import matminer\n",
        "except ModuleNotFoundError:\n",
        "  !pip install matminer"
      ],
      "execution_count": 0,
      "outputs": []
    },
    {
      "metadata": {
        "id": "1Tsm7lYG_ZLK",
        "colab_type": "code",
        "colab": {}
      },
      "cell_type": "code",
      "source": [
        "import requests\n",
        "import numpy as np \n",
        "import pandas as pd\n",
        "import pickle\n",
        "\n",
        "from sklearn.model_selection import train_test_split, GridSearchCV\n",
        "from sklearn.ensemble import RandomForestRegressor\n",
        "import matplotlib.pyplot as plt"
      ],
      "execution_count": 0,
      "outputs": []
    },
    {
      "metadata": {
        "id": "95ET9_sL3ede",
        "colab_type": "code",
        "colab": {}
      },
      "cell_type": "code",
      "source": [
        "from pymatgen.io.cif import CifParser\n",
        "from pymatgen.core.composition import Composition\n",
        "from pymatgen import Structure\n",
        "\n",
        "from matminer.data_retrieval.retrieve_MP import MPDataRetrieval\n",
        "from matminer.utils.conversions import str_to_composition\n",
        "from matminer.utils.conversions import dict_to_object\n",
        "from matminer.utils.conversions import composition_to_oxidcomposition\n",
        "\n",
        "from matminer.featurizers.structure import DensityFeatures\n",
        "from matminer.featurizers.structure import RadialDistributionFunction\n",
        "from matminer.featurizers.composition import OxidationStates\n",
        "from matminer.featurizers.composition import ValenceOrbital"
      ],
      "execution_count": 0,
      "outputs": []
    },
    {
      "metadata": {
        "id": "xYB4WQn8Ad_d",
        "colab_type": "code",
        "colab": {}
      },
      "cell_type": "code",
      "source": [
        "if save_flag:\n",
        "  from google.colab import drive\n",
        "  drive.mount('/gdrive')"
      ],
      "execution_count": 0,
      "outputs": []
    },
    {
      "metadata": {
        "id": "XS6gcOKOQhfD",
        "colab_type": "text"
      },
      "cell_type": "markdown",
      "source": [
        "# Functions"
      ]
    },
    {
      "metadata": {
        "id": "vuzO_LjRBGcw",
        "colab_type": "text"
      },
      "cell_type": "markdown",
      "source": [
        "## Getting data"
      ]
    },
    {
      "metadata": {
        "id": "JZsLE_6N_ytG",
        "colab_type": "code",
        "colab": {}
      },
      "cell_type": "code",
      "source": [
        "def query_data(pname,api_key,save=False,dname=None,path=''):\n",
        "\n",
        "  mpdr = MPDataRetrieval(api_key)\n",
        "\n",
        "  # query properties\n",
        "  props = mpdr.get_dataframe(criteria={pname: {\"$exists\": True},\n",
        "                                        \"elements\": {\"$all\": [\"Li\", \"Fe\", \"O\"]},\n",
        "                                      (\"{}.warnings\".format(pname)): None},\n",
        "                              properties=['pretty_formula',pname,'e_above_hull'])\n",
        "  print(\"There are {} entries satisfying criteria\".format(props[pname].count()))\n",
        "\n",
        "  # Load crystal structures\n",
        "  # initialize dataframe\n",
        "  structures = pd.DataFrame(columns=['structure'])\n",
        "\n",
        "  # lists of mp ids to avo\n",
        "  chunk_size = 1000\n",
        "  mp_ids = props.index.tolist()\n",
        "  sublists = [mp_ids[i:i+chunk_size] for i in range(0, len(mp_ids), chunk_size)]\n",
        "\n",
        "  # query structures \n",
        "  for sublist in sublists:\n",
        "    structures = structures.append(mpdr.get_dataframe({\"material_id\":{\"$in\": sublist}}, ['structure']))\n",
        "  \n",
        "  data = pd.concat([props,structures],axis=1)\n",
        "  \n",
        "  if save:\n",
        "    if not dname:\n",
        "      dname = pname\n",
        "    \n",
        "    fname = '%s/%s.pkl' % (path,dname) \n",
        "    data.to_pickle(fname)\n",
        "    print('Saved raw data to ',fname)\n",
        "\n",
        "  return data"
      ],
      "execution_count": 0,
      "outputs": []
    },
    {
      "metadata": {
        "id": "SJYwUSp9BJfu",
        "colab_type": "text"
      },
      "cell_type": "markdown",
      "source": [
        "## Adding features"
      ]
    },
    {
      "metadata": {
        "id": "OhWYELx2BEj_",
        "colab_type": "code",
        "colab": {}
      },
      "cell_type": "code",
      "source": [
        "def add_atom_features(df):\n",
        "  \n",
        "  avg_row = []\n",
        "  avg_col = []\n",
        "  avg_num = []\n",
        "  el_neg = []\n",
        "  at_mass = []\n",
        "  at_r = []\n",
        "  io_r = []\n",
        "  \n",
        "  # loop through entries\n",
        "  for index, row in df.iterrows(): \n",
        "    \n",
        "    comp = Composition(row['pretty_formula'])\n",
        "    elem,fracs = zip(*comp.fractional_composition.items())\n",
        "\n",
        "    # 0. average row in the periodic table\n",
        "    try:\n",
        "      avg_row.append(sum([el.row*fr for (el,fr) in zip(elem,fracs)]))\n",
        "    except TypeError:\n",
        "      avg_row.append(float('nan'))\n",
        "    \n",
        "    # 1. average column in the periodic table\n",
        "    try:\n",
        "      avg_col.append(sum([el.group*fr for (el,fr) in zip(elem,fracs)]))\n",
        "    except TypeError:\n",
        "      avg_col.append(float('nan'))\n",
        "  \n",
        "    # 2. average atomic number\n",
        "    try:\n",
        "      avg_num.append(sum([el.number*fr for (el,fr) in zip(elem,fracs)]))\n",
        "    except TypeError:\n",
        "      avg_num.append(float('nan'))\n",
        "    \n",
        "    # 3. average electronegativity\n",
        "    try:\n",
        "      el_neg.append(sum([el.X*fr for (el,fr) in zip(elem,fracs)]))\n",
        "    except TypeError:\n",
        "      el_neg.append(float('nan'))\n",
        "    \n",
        "    # 4. average atomic mass\n",
        "    try:\n",
        "      at_mass.append(sum([el.data['Atomic mass']*fr for (el,fr) in zip(elem,fracs)]))\n",
        "    except TypeError:\n",
        "      at_mass.append(float('nan'))\n",
        "    \n",
        "    # 5. average atomic radius\n",
        "    try:\n",
        "      at_r.append(sum([el.data['Atomic radius']*fr for (el,fr) in zip(elem,fracs)]))\n",
        "    except TypeError:\n",
        "      at_r.append(float('nan'))\n",
        "    \n",
        "    # 6. average ionic radius\n",
        "    try:\n",
        "      io_r.append(sum([el.average_ionic_radius*fr for (el,fr) in zip(elem,fracs)]))\n",
        "    except TypeError:\n",
        "      io_r.append(float('nan'))\n",
        "      \n",
        "  df['avg row'] = pd.Series(avg_row, index=df.index)\n",
        "  df['avg column'] = pd.Series(avg_col, index=df.index)\n",
        "  df['avg num'] = pd.Series(avg_num, index=df.index)\n",
        "  df['avg el-neg'] = pd.Series(el_neg, index=df.index)\n",
        "  df['avg atom mass'] = pd.Series(at_mass, index=df.index)\n",
        "  df['avg atom radius'] = pd.Series(at_r, index=df.index)\n",
        "  df['avg ionic radius'] = pd.Series(io_r, index=df.index)\n",
        "  \n",
        "  feat_labels = ['avg row','avg column','avg num','avg el-neg',\n",
        "                 'avg atom mass','avg atom radius','avg ionic radius']\n",
        "  \n",
        "  return df\n",
        "\n",
        "def add_cs_features(df,rdf_flag=False):\n",
        "\n",
        "  df[\"composition\"] = str_to_composition(df[\"pretty_formula\"]) \n",
        "  df[\"composition_oxid\"] = composition_to_oxidcomposition(df[\"composition\"])\n",
        "  df[\"structure\"] = dict_to_object(df[\"structure\"]) \n",
        "\n",
        "  vo = ValenceOrbital()\n",
        "  df = vo.featurize_dataframe(df,\"composition\")\n",
        "\n",
        "  ox = OxidationStates()\n",
        "  df = ox.featurize_dataframe(df, \"composition_oxid\")\n",
        "  \n",
        "  # structure features\n",
        "  den = DensityFeatures()\n",
        "  df = den.featurize_dataframe(df, \"structure\")\n",
        "  \n",
        "  if rdf_flag:\n",
        "    rdf = RadialDistributionFunction(cutoff=15.0,bin_size=0.2)\n",
        "    df = rdf.featurize_dataframe(df, \"structure\") \n",
        "  \n",
        "  return df\n",
        "\n",
        "def add_features(df,save=False,dname=None,path=''):\n",
        "  '''Add features to dataframe'''\n",
        "  \n",
        "  df = add_atom_features(df)\n",
        "  df = add_cs_features(df)\n",
        "  \n",
        "  \n",
        "  if save:\n",
        "    if not dname:\n",
        "      dname = pname\n",
        "      \n",
        "    fname = '%s/%s_feats.pkl' % (path,dname) \n",
        "    data.to_pickle(fname)\n",
        "    print('Saved data with features to ',fname)\n",
        "  \n",
        "  return df\n",
        "  "
      ],
      "execution_count": 0,
      "outputs": []
    },
    {
      "metadata": {
        "id": "P-Bo5eacCmgq",
        "colab_type": "text"
      },
      "cell_type": "markdown",
      "source": [
        "## Contructing input vector"
      ]
    },
    {
      "metadata": {
        "id": "3q2Q91yCCP84",
        "colab_type": "code",
        "colab": {}
      },
      "cell_type": "code",
      "source": [
        "def get_xy(df,elems,pname,pmin,pmax,stab):\n",
        "  '''Get x and y from data'''\n",
        "\n",
        "  # filter NaNs and entries based on criteria\n",
        "  df = df.dropna()\n",
        "  df = filter_data(df,elems,pname,pmin=pmin,pmax=pmax,stab=stab)\n",
        "\n",
        "  # exclude non-input columns\n",
        "  labels = ['pretty_formula',pname,'e_above_hull','structure','composition','composition_oxid','radial distribution function']\n",
        "  exclude = []\n",
        "  for item in labels:\n",
        "    if item in df.columns.values:\n",
        "      exclude.append(item)\n",
        "\n",
        "\n",
        "  # get X and Y\n",
        "  x = df.sort_index().drop(exclude, axis=1)\n",
        "  y = df[pname].sort_index().values\n",
        "\n",
        "  return x,y"
      ],
      "execution_count": 0,
      "outputs": []
    },
    {
      "metadata": {
        "id": "7QIOJqO0C1hY",
        "colab_type": "code",
        "colab": {}
      },
      "cell_type": "code",
      "source": [
        "def filter_data(df,elems,pname,pmin=None,pmax=None,stab=None):\n",
        "  '''Filter data by criteria'''\n",
        "\n",
        "  print('# entries before filters: ',len(df))\n",
        "\n",
        "  # filter by chemistry\n",
        "  inds = np.zeros((len(elems),len(df)))\n",
        "  for i,item in enumerate(elems):\n",
        "    inds[i,:] = (df['pretty_formula'].str.contains(item))\n",
        "\n",
        "  idx = np.prod(inds,axis=0)\n",
        "  df = df[idx==1]\n",
        "  print('# entries after chemistry: ',len(df))\n",
        "\n",
        "  # filter by property values\n",
        "  if pmin:\n",
        "    df = df[df[pname] >= pmin]\n",
        "  if pmax:\n",
        "    df = df[df[pname] <= pmax]\n",
        "  print('# entries after property: ',len(df))\n",
        "\n",
        "  # filter by stability\n",
        "  if stab:\n",
        "    df = df[df['e_above_hull'] <= stab]\n",
        "  print('# entries after stability: ',len(df))\n",
        "\n",
        "  return df"
      ],
      "execution_count": 0,
      "outputs": []
    },
    {
      "metadata": {
        "id": "NLOjhOiRDwKm",
        "colab_type": "text"
      },
      "cell_type": "markdown",
      "source": [
        "## Fitting random forest model "
      ]
    },
    {
      "metadata": {
        "id": "cjHFr9mADvV1",
        "colab_type": "code",
        "colab": {}
      },
      "cell_type": "code",
      "source": [
        "def fit_forest(x,y,fast=False,lbl='Full'):\n",
        "\n",
        "  # split data\n",
        "  x_train, x_test, y_train, y_test = train_test_split(x, y, test_size=0.2, random_state=42)\n",
        "\n",
        "  # grid-search optimal parameters\n",
        "  rf = RandomForestRegressor()\n",
        "  if fast:\n",
        "    param_grid = { \n",
        "        'n_estimators'      : [10,50,100,250],\n",
        "        'max_features'      : ['auto','sqrt','log2'],\n",
        "        'min_samples_split' : [4],\n",
        "        'min_samples_leaf'  : [1]\n",
        "        }    \n",
        "  else:\n",
        "    param_grid = { \n",
        "        'n_estimators'      : [10,25,50,100,250],\n",
        "        'max_features'      : ['auto','sqrt','log2'],\n",
        "        'min_samples_split' : [2,4,8],\n",
        "        'min_samples_leaf'  : [1, 2, 5]\n",
        "        }\n",
        "  grid = GridSearchCV(rf, param_grid, n_jobs=-1, cv=5)\n",
        "  grid.fit(x_train, y_train)\n",
        "\n",
        "  print(grid.best_score_)\n",
        "  print(grid.best_params_)\n",
        "  print(grid.score(x_test, y_test))\n",
        "\n",
        "  # use optimal parameters\n",
        "  rf.set_params(**grid.best_params_)\n",
        "  rf.fit(x_train, y_train)\n",
        "\n",
        "  y_hat_train = rf.predict(x_train) \n",
        "  y_hat_test = rf.predict(x_test) \n",
        "\n",
        "  mae_train = np.mean(abs(y_hat_train-y_train))/np.mean(y_train)\n",
        "  print('%s RF, train error: %.3f' % (lbl,mae_train))\n",
        "\n",
        "  mae_test = np.mean(abs(y_hat_test-y_test))/np.mean(y_test)\n",
        "  print('%s RF, test error : %.3f' % (lbl,mae_test))\n",
        "\n",
        "  return rf\n",
        "\n",
        "def fit_model(x,y,fast=False,show=False,save=False,dname=None,path=''):\n",
        "\n",
        "  # fit RF using all variables\n",
        "  print('Fitting full random forest...')\n",
        "  rf = fit_forest(x,y,fast=fast,lbl='Full')\n",
        "\n",
        "  # variable importances\n",
        "  nvar = 10\n",
        "  imp = rf.feature_importances_\n",
        "  idx = np.argsort(imp)[::-1]\n",
        "  print('%d most important variables:' % nvar)\n",
        "  print(x.columns.values[idx][0:nvar])\n",
        "\n",
        "  # prune variables\n",
        "  thr = 0.5*np.median(imp)\n",
        "  idx = imp < thr\n",
        "  exclude = list(x.columns.values[idx])\n",
        "  x_sel = x.drop(exclude, axis=1)\n",
        "  x_sel_cols = x_sel.columns.values\n",
        "  \n",
        "  # fit RF using important variables\n",
        "  print('\\nFitting pruned random forest...')\n",
        "  rf = fit_forest(x_sel,y,fast=fast,lbl='Pruned')\n",
        "  \n",
        "  print('%d pruned variables:' % len(x_sel.columns))\n",
        "  print(x_sel_cols)\n",
        "  \n",
        "  if save:\n",
        "    if not dname:\n",
        "      dname = pname\n",
        "      \n",
        "    fname = '%s/%s_model.pkl' % (path,dname) \n",
        "    f = open(fname, \"wb\")\n",
        "    pickle.dump(mdl, f)\n",
        "    pickle.dump(list(x_sel_cols), f)\n",
        "    f.close()\n",
        "  \n",
        "  if show:\n",
        "    # plt.figure(figsize=(7, 4))\n",
        "\n",
        "    # importance chart\n",
        "    plt.subplot(121)\n",
        "    \n",
        "    ind = np.argsort(imp)[::-1]\n",
        "    plt.bar(x=x.columns.values[ind][0:nvar], height=imp[ind][0:nvar],color=(0.3,0.3,0.9))\n",
        "    plt.xticks(x.columns.values[ind][0:nvar], x.columns.values[ind][0:nvar], rotation='vertical')\n",
        "    plt.xlabel('Variables')\n",
        "    plt.ylabel('Importance')\n",
        "\n",
        "    # parity plot\n",
        "    ax = plt.subplot(122)\n",
        "    ax.set_aspect(1)\n",
        "    \n",
        "    plt.scatter(y, rf.predict(x_sel),marker='s',alpha=.25,c=(0.9,0.3,0.3))\n",
        "    plt.plot(np.arange(np.max(y)),c='gray')\n",
        "    plt.xlabel('Ground truth')\n",
        "    plt.ylabel('RF prediction')\n",
        "    \n",
        "    plt.subplots_adjust(bottom=0.25,top=0.75)\n",
        "    plt.draw()\n",
        "    plt.show()\n",
        "  \n",
        "\n",
        "  return rf,x_sel_cols\n"
      ],
      "execution_count": 0,
      "outputs": []
    },
    {
      "metadata": {
        "id": "w8ajHUyLIZoV",
        "colab_type": "code",
        "colab": {}
      },
      "cell_type": "code",
      "source": [
        "def digest(url):\n",
        "\t'''Get structure for given url of CIF file'''\n",
        "\n",
        "\tresponse = requests.get(url)\n",
        "\tdata = response.text\n",
        "\n",
        "\tparser = CifParser.from_string(data)\n",
        "\tstructure = parser.get_structures()[0]\n",
        "\tprint('Successfuly read structure for',structure.composition)\n",
        "\n",
        "\treturn structure\n",
        "\n",
        "def get_xnew(df,x_cols):\n",
        "\t'''Get feature vector for new material'''\n",
        "\n",
        "\t# exclude columns non-present in x_train\n",
        "\texclude = []\n",
        "\tfor item in df.columns.values:\n",
        "\t\tif item not in x_cols:\n",
        "\t\t\texclude.append(item)\n",
        "\n",
        "\t# get X \n",
        "\tx = df.drop(exclude, axis=1)\n",
        "\n",
        "\treturn x\n",
        "\n",
        "def use_model(formula,CIF_path,mdl,x_cols):\n",
        "\n",
        "\t# get structure for given CIF\n",
        "\tstructure = digest(CIF_path)\n",
        "\n",
        "\t# initialize df\n",
        "\tdf = pd.DataFrame(columns=['pretty_formula','structure'])\n",
        "\n",
        "\t# fill df\n",
        "\tdf[\"pretty_formula\"] = pd.Series([formula])\n",
        "\tdf[\"structure\"] = pd.Series([structure])\n",
        "\n",
        "\t# add features\n",
        "\tdf = add_atom_features(df)\n",
        "\tdf = add_cs_features(df)\n",
        "\n",
        "\t# get x vector for new material\n",
        "\txnew = get_xnew(df,x_cols)\n",
        "\n",
        "\tynew = mdl.predict(xnew)\n",
        "\tprint('Predicted property: %.3f' % ynew)\n",
        "\n",
        "\treturn xnew,ynew"
      ],
      "execution_count": 0,
      "outputs": []
    },
    {
      "metadata": {
        "id": "9fYRRbSBCQY_",
        "colab_type": "text"
      },
      "cell_type": "markdown",
      "source": [
        "# Run the workflow"
      ]
    },
    {
      "metadata": {
        "id": "qSYjiiX-LVa2",
        "colab_type": "text"
      },
      "cell_type": "markdown",
      "source": [
        "### Get data from mp database"
      ]
    },
    {
      "metadata": {
        "id": "vE4ZEoNU_2Fs",
        "colab_type": "code",
        "colab": {
          "base_uri": "https://localhost:8080/",
          "height": 72
        },
        "outputId": "7795b21a-7c28-4abe-9875-cec3d2eb01e7"
      },
      "cell_type": "code",
      "source": [
        "%%time \n",
        "\n",
        "data = query_data(pname,api_key,save_flag,dname,dpath)"
      ],
      "execution_count": 21,
      "outputs": [
        {
          "output_type": "stream",
          "text": [
            "There are 2199 entries satisfying criteria\n",
            "CPU times: user 1.53 s, sys: 166 ms, total: 1.69 s\n",
            "Wall time: 24.9 s\n"
          ],
          "name": "stdout"
        }
      ]
    },
    {
      "metadata": {
        "id": "l4nFhrbOLcXP",
        "colab_type": "text"
      },
      "cell_type": "markdown",
      "source": [
        "### Add features to data"
      ]
    },
    {
      "metadata": {
        "id": "KQH8qDOxBMbh",
        "colab_type": "code",
        "colab": {
          "base_uri": "https://localhost:8080/",
          "height": 108
        },
        "outputId": "a7656eef-103b-4098-9539-64a4f75354f6"
      },
      "cell_type": "code",
      "source": [
        "%%time \n",
        "\n",
        "df = add_features(data,save_flag,dname,dpath)"
      ],
      "execution_count": 22,
      "outputs": [
        {
          "output_type": "stream",
          "text": [
            "ValenceOrbital: 100%|██████████| 2199/2199 [00:00<00:00, 6136.48it/s]\n",
            "OxidationStates: 100%|██████████| 2199/2199 [00:00<00:00, 6499.93it/s]\n",
            "DensityFeatures: 100%|██████████| 2199/2199 [00:09<00:00, 240.77it/s]\n"
          ],
          "name": "stderr"
        },
        {
          "output_type": "stream",
          "text": [
            "CPU times: user 26.6 s, sys: 377 ms, total: 27 s\n",
            "Wall time: 38.1 s\n"
          ],
          "name": "stdout"
        }
      ]
    },
    {
      "metadata": {
        "id": "uSW0X9J2LuFI",
        "colab_type": "text"
      },
      "cell_type": "markdown",
      "source": [
        "### Construct input vector"
      ]
    },
    {
      "metadata": {
        "id": "M1Y1ng04CZF6",
        "colab_type": "code",
        "colab": {
          "base_uri": "https://localhost:8080/",
          "height": 126
        },
        "outputId": "90f33af4-8fd9-4e22-84b7-d9e6e63f022f"
      },
      "cell_type": "code",
      "source": [
        "%%time\n",
        "x,y = get_xy(df,elems,pname,pmin,pmax,stab)"
      ],
      "execution_count": 23,
      "outputs": [
        {
          "output_type": "stream",
          "text": [
            "# entries before filters:  2199\n",
            "# entries after chemistry:  2199\n",
            "# entries after property:  1656\n",
            "# entries after stability:  1655\n",
            "CPU times: user 30.5 ms, sys: 3.47 ms, total: 33.9 ms\n",
            "Wall time: 37.4 ms\n"
          ],
          "name": "stdout"
        }
      ]
    },
    {
      "metadata": {
        "id": "rDynwAV0LxM0",
        "colab_type": "text"
      },
      "cell_type": "markdown",
      "source": [
        "### Fit RF model"
      ]
    },
    {
      "metadata": {
        "id": "RWCjr1U5D5Ks",
        "colab_type": "code",
        "colab": {
          "base_uri": "https://localhost:8080/",
          "height": 828
        },
        "outputId": "1a354d85-de26-45c5-a243-bc46fed1bf74"
      },
      "cell_type": "code",
      "source": [
        "%%time \n",
        "\n",
        "mdl,x_cols = fit_model(x,y,fast=True,show=True,save=save_flag,dname=dname,path=dpath)"
      ],
      "execution_count": 24,
      "outputs": [
        {
          "output_type": "stream",
          "text": [
            "Fitting full random forest...\n",
            "0.7805959996574983\n",
            "{'max_features': 'sqrt', 'min_samples_leaf': 1, 'min_samples_split': 4, 'n_estimators': 50}\n",
            "0.812870508666969\n",
            "Full RF, train error: 0.062\n",
            "Full RF, test error : 0.123\n",
            "10 most important variables:\n",
            "['frac d valence electrons' 'avg d valence electrons'\n",
            " 'frac p valence electrons' 'avg ionic radius' 'avg atom mass' 'density'\n",
            " 'avg num' 'avg row' 'std_dev oxidation state' 'frac s valence electrons']\n",
            "\n",
            "Fitting pruned random forest...\n",
            "0.7778335588632863\n",
            "{'max_features': 'sqrt', 'min_samples_leaf': 1, 'min_samples_split': 4, 'n_estimators': 250}\n",
            "0.8098852154821462\n",
            "Pruned RF, train error: 0.059\n",
            "Pruned RF, test error : 0.124\n",
            "17 pruned variables:\n",
            "['avg row' 'avg column' 'avg num' 'avg el-neg' 'avg atom mass'\n",
            " 'avg atom radius' 'avg ionic radius' 'avg s valence electrons'\n",
            " 'avg p valence electrons' 'avg d valence electrons'\n",
            " 'frac s valence electrons' 'frac p valence electrons'\n",
            " 'frac d valence electrons' 'std_dev oxidation state' 'density' 'vpa'\n",
            " 'packing fraction']\n"
          ],
          "name": "stdout"
        },
        {
          "output_type": "display_data",
          "data": {
            "image/png": "[encoded data removed]",
            "text/plain": [
              "<matplotlib.figure.Figure at 0x7f4671c4bf60>"
            ]
          },
          "metadata": {
            "tags": []
          }
        },
        {
          "output_type": "stream",
          "text": [
            "CPU times: user 3.48 s, sys: 451 ms, total: 3.93 s\n",
            "Wall time: 47 s\n"
          ],
          "name": "stdout"
        }
      ]
    },
    {
      "metadata": {
        "id": "IHI6i9xxMB-g",
        "colab_type": "text"
      },
      "cell_type": "markdown",
      "source": [
        "### Estimate the property of new material"
      ]
    },
    {
      "metadata": {
        "id": "HX_PqHByiq1F",
        "colab_type": "code",
        "colab": {},
        "cellView": "form"
      },
      "cell_type": "code",
      "source": [
        "#@title New material\n",
        "\n",
        "formula = 'Li5FeO4' #@param {type:\"string\"}\n",
        "CIF_path = '' #@param {type:\"string\"}\n"
      ],
      "execution_count": 0,
      "outputs": []
    },
    {
      "metadata": {
        "id": "jKqhyGbpv4dj",
        "colab_type": "code",
        "colab": {
          "base_uri": "https://localhost:8080/",
          "height": 108
        },
        "outputId": "d54d3fe2-681c-4996-e0f8-3fa37fb8bd2b"
      },
      "cell_type": "code",
      "source": [
        "xnew,ynew = use_model(formula,CIF_path,mdl,x_cols)"
      ],
      "execution_count": 31,
      "outputs": [
        {
          "output_type": "stream",
          "text": [
            "\rValenceOrbital:   0%|          | 0/1 [00:00<?, ?it/s]"
          ],
          "name": "stderr"
        },
        {
          "output_type": "stream",
          "text": [
            "Successfuly read structure for Li40 Fe8 O32\n"
          ],
          "name": "stdout"
        },
        {
          "output_type": "stream",
          "text": [
            "ValenceOrbital: 100%|██████████| 1/1 [00:00<00:00, 33.23it/s]\n",
            "OxidationStates: 100%|██████████| 1/1 [00:00<00:00, 32.91it/s]\n",
            "DensityFeatures: 100%|██████████| 1/1 [00:00<00:00, 36.11it/s]\n"
          ],
          "name": "stderr"
        },
        {
          "output_type": "stream",
          "text": [
            "Predicted property: 2.856\n"
          ],
          "name": "stdout"
        }
      ]
    }
  ]
}