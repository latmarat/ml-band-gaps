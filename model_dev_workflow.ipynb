{
  "nbformat": 4,
  "nbformat_minor": 0,
  "metadata": {
    "colab": {
      "name": "model_dev_workflow",
      "version": "0.3.2",
      "provenance": [],
      "collapsed_sections": [
        "SJYwUSp9BJfu",
        "NLOjhOiRDwKm"
      ]
    },
    "kernelspec": {
      "name": "python3",
      "display_name": "Python 3"
    }
  },
  "cells": [
    {
      "metadata": {
        "id": "kjTTMRNUF4Ts",
        "colab_type": "text"
      },
      "cell_type": "markdown",
      "source": [
        "# User Input"
      ]
    },
    {
      "metadata": {
        "id": "SC25O0Yv_KvP",
        "colab_type": "code",
        "colab": {},
        "cellView": "form"
      },
      "cell_type": "code",
      "source": [
        "#@title Database\n",
        "\n",
        "api_key = '' #@param {type:\"string\"}\n",
        "pname = 'band_gap' #@param {type:\"string\"}\n"
      ],
      "execution_count": 0,
      "outputs": []
    },
    {
      "metadata": {
        "id": "j0-mxfKOTdVm",
        "colab_type": "code",
        "colab": {},
        "cellView": "form"
      },
      "cell_type": "code",
      "source": [
        "#@title Save data locally?\n",
        "\n",
        "save_flag = False #@param {type:\"boolean\"}\n",
        "\n",
        "dpath = '' #@param {type:\"string\"}\n",
        "dname = 'LiFeO_bg' #@param {type:\"string\"}\n",
        "\n",
        "if dname == None or dname == '':\n",
        "  dname = pname\n",
        "\n",
        "if dpath == None:\n",
        "  dpath = ''"
      ],
      "execution_count": 0,
      "outputs": []
    },
    {
      "metadata": {
        "id": "tfRj7WGKBnbY",
        "colab_type": "code",
        "colab": {},
        "cellView": "form"
      },
      "cell_type": "code",
      "source": [
        "#@title Filtering entries for model development\n",
        "\n",
        "chemistry = 'Li,Fe,O' #@param {type:\"string\"}\n",
        "stab = 0.5 #@param {type:\"number\"}\n",
        "pmin = 0.5 #@param {type:\"raw\"}\n",
        "pmax = None #@param {type:\"raw\"}\n",
        "\n",
        "elems = list(chemistry.split(\",\"))\n"
      ],
      "execution_count": 0,
      "outputs": []
    },
    {
      "metadata": {
        "id": "uHkSOIWLDolN",
        "colab_type": "text"
      },
      "cell_type": "markdown",
      "source": [
        "# Import packages"
      ]
    },
    {
      "metadata": {
        "id": "fYkQIuDNeosp",
        "colab_type": "code",
        "colab": {}
      },
      "cell_type": "code",
      "source": [
        "try:\n",
        "  import matminer\n",
        "except ModuleNotFoundError:\n",
        "  !pip install matminer"
      ],
      "execution_count": 0,
      "outputs": []
    },
    {
      "metadata": {
        "id": "1Tsm7lYG_ZLK",
        "colab_type": "code",
        "colab": {}
      },
      "cell_type": "code",
      "source": [
        "import requests\n",
        "import numpy as np \n",
        "import pandas as pd\n",
        "import pickle\n",
        "import re\n",
        "\n",
        "from sklearn.model_selection import train_test_split, GridSearchCV\n",
        "from sklearn.ensemble import RandomForestRegressor\n",
        "import matplotlib.pyplot as plt"
      ],
      "execution_count": 0,
      "outputs": []
    },
    {
      "metadata": {
        "id": "95ET9_sL3ede",
        "colab_type": "code",
        "colab": {}
      },
      "cell_type": "code",
      "source": [
        "from pymatgen.io.cif import CifParser\n",
        "from pymatgen.core.composition import Composition\n",
        "from pymatgen import Structure\n",
        "\n",
        "from matminer.data_retrieval.retrieve_MP import MPDataRetrieval\n",
        "from matminer.utils.conversions import str_to_composition\n",
        "from matminer.utils.conversions import dict_to_object\n",
        "from matminer.utils.conversions import composition_to_oxidcomposition\n",
        "\n",
        "from matminer.featurizers.structure import DensityFeatures\n",
        "from matminer.featurizers.structure import RadialDistributionFunction\n",
        "from matminer.featurizers.composition import OxidationStates\n",
        "from matminer.featurizers.composition import ValenceOrbital"
      ],
      "execution_count": 0,
      "outputs": []
    },
    {
      "metadata": {
        "id": "xYB4WQn8Ad_d",
        "colab_type": "code",
        "colab": {}
      },
      "cell_type": "code",
      "source": [
        "if save_flag:\n",
        "  from google.colab import drive\n",
        "  drive.mount('/gdrive')"
      ],
      "execution_count": 0,
      "outputs": []
    },
    {
      "metadata": {
        "id": "XS6gcOKOQhfD",
        "colab_type": "text"
      },
      "cell_type": "markdown",
      "source": [
        "# Functions"
      ]
    },
    {
      "metadata": {
        "id": "vuzO_LjRBGcw",
        "colab_type": "text"
      },
      "cell_type": "markdown",
      "source": [
        "## Getting data"
      ]
    },
    {
      "metadata": {
        "id": "JZsLE_6N_ytG",
        "colab_type": "code",
        "colab": {}
      },
      "cell_type": "code",
      "source": [
        "def query_data(pname,api_key,save=False,dname=None,path='',elems='',pmin=None,pmax=None,stab=None):\n",
        "\n",
        "  mpdr = MPDataRetrieval(api_key)\n",
        "  \n",
        "  # construct dict for criteria based on user inpu\n",
        "  cri={pname: {\"$exists\": True,'$gt':0.0},\n",
        "          (\"{}.warnings\".format(pname)): None}\n",
        "  if pmin:\n",
        "    cri[pname].update({'$gt':pmin})\n",
        "  if pmax:\n",
        "    cri[pname].update({'$lt':pmax})\n",
        "  if np.sum([bool(re.search('[a-zA-Z]', item)) for item in elems]):\n",
        "    cri['elements'] = {'$all':elems}\n",
        "  if stab:\n",
        "    cri['e_above_hull'] = {\"$lt\": stab}\n",
        "  \n",
        "  # load data\n",
        "  props = mpdr.get_dataframe(criteria=cri,\n",
        "                           properties=['pretty_formula',pname,'e_above_hull'])\n",
        "  \n",
        "  print(\"There are {} entries satisfying criteria\".format(props[pname].count()))\n",
        "\n",
        "  # Load crystal structures\n",
        "  # initialize dataframe\n",
        "  structures = pd.DataFrame(columns=['structure'])\n",
        "\n",
        "  # lists of mp ids to avoid server-side errors\n",
        "  chunk_size = 1000\n",
        "  mp_ids = props.index.tolist()\n",
        "  sublists = [mp_ids[i:i+chunk_size] for i in range(0, len(mp_ids), chunk_size)]\n",
        "\n",
        "  # query structures \n",
        "  print('Loading structures...')\n",
        "  for sublist in sublists:\n",
        "    structures = structures.append(mpdr.get_dataframe({\"material_id\":{\"$in\": sublist}}, ['structure']))\n",
        "  \n",
        "  data = pd.concat([props,structures],axis=1)\n",
        "  \n",
        "  # if limit:\n",
        "  #  data = filter_data(data,elems,pname,pmin,pmax,stab)\n",
        "  #  print('Filters applied, %d entries left' % len(data))\n",
        "  \n",
        "  if save:\n",
        "    if not dname:\n",
        "      dname = pname\n",
        "    \n",
        "    fname = '%s/%s.pkl' % (path,dname) \n",
        "    data.to_pickle(fname)\n",
        "    print('Saved raw data to ',fname)\n",
        "\n",
        "  return data"
      ],
      "execution_count": 0,
      "outputs": []
    },
    {
      "metadata": {
        "id": "SJYwUSp9BJfu",
        "colab_type": "text"
      },
      "cell_type": "markdown",
      "source": [
        "## Adding features"
      ]
    },
    {
      "metadata": {
        "id": "OhWYELx2BEj_",
        "colab_type": "code",
        "colab": {}
      },
      "cell_type": "code",
      "source": [
        "def add_atom_features(df):\n",
        "  \n",
        "  avg_row = []\n",
        "  avg_col = []\n",
        "  avg_num = []\n",
        "  el_neg = []\n",
        "  at_mass = []\n",
        "  at_r = []\n",
        "  io_r = []\n",
        "  \n",
        "  # loop through entries\n",
        "  for index, row in df.iterrows(): \n",
        "    \n",
        "    comp = Composition(row['pretty_formula'])\n",
        "    elem,fracs = zip(*comp.fractional_composition.items())\n",
        "\n",
        "    # 0. average row in the periodic table\n",
        "    try:\n",
        "      avg_row.append(sum([el.row*fr for (el,fr) in zip(elem,fracs)]))\n",
        "    except TypeError:\n",
        "      avg_row.append(float('nan'))\n",
        "    \n",
        "    # 1. average column in the periodic table\n",
        "    try:\n",
        "      avg_col.append(sum([el.group*fr for (el,fr) in zip(elem,fracs)]))\n",
        "    except TypeError:\n",
        "      avg_col.append(float('nan'))\n",
        "  \n",
        "    # 2. average atomic number\n",
        "    try:\n",
        "      avg_num.append(sum([el.number*fr for (el,fr) in zip(elem,fracs)]))\n",
        "    except TypeError:\n",
        "      avg_num.append(float('nan'))\n",
        "    \n",
        "    # 3. average electronegativity\n",
        "    try:\n",
        "      el_neg.append(sum([el.X*fr for (el,fr) in zip(elem,fracs)]))\n",
        "    except TypeError:\n",
        "      el_neg.append(float('nan'))\n",
        "    \n",
        "    # 4. average atomic mass\n",
        "    try:\n",
        "      at_mass.append(sum([el.data['Atomic mass']*fr for (el,fr) in zip(elem,fracs)]))\n",
        "    except TypeError:\n",
        "      at_mass.append(float('nan'))\n",
        "    \n",
        "    # 5. average atomic radius\n",
        "    try:\n",
        "      at_r.append(sum([el.data['Atomic radius']*fr for (el,fr) in zip(elem,fracs)]))\n",
        "    except TypeError:\n",
        "      at_r.append(float('nan'))\n",
        "    \n",
        "    # 6. average ionic radius\n",
        "    try:\n",
        "      io_r.append(sum([el.average_ionic_radius*fr for (el,fr) in zip(elem,fracs)]))\n",
        "    except TypeError:\n",
        "      io_r.append(float('nan'))\n",
        "      \n",
        "  df['avg row'] = pd.Series(avg_row, index=df.index)\n",
        "  df['avg column'] = pd.Series(avg_col, index=df.index)\n",
        "  df['avg num'] = pd.Series(avg_num, index=df.index)\n",
        "  df['avg el-neg'] = pd.Series(el_neg, index=df.index)\n",
        "  df['avg atom mass'] = pd.Series(at_mass, index=df.index)\n",
        "  df['avg atom radius'] = pd.Series(at_r, index=df.index)\n",
        "  df['avg ionic radius'] = pd.Series(io_r, index=df.index)\n",
        "  \n",
        "  print('Done adding atomic features')\n",
        "  feat_labels = ['avg row','avg column','avg num','avg el-neg',\n",
        "                 'avg atom mass','avg atom radius','avg ionic radius']\n",
        "  \n",
        "  return df\n",
        "\n",
        "def add_cs_features(df,rdf_flag=False):\n",
        "\n",
        "  df[\"composition\"] = str_to_composition(df[\"pretty_formula\"]) \n",
        "  print('Created composition column')\n",
        "  df[\"composition_oxid\"] = composition_to_oxidcomposition(df[\"composition\"])\n",
        "  print('Created composition_oxid column')\n",
        "  df[\"structure\"] = dict_to_object(df[\"structure\"]) \n",
        "  print('Created structure column')\n",
        "\n",
        "  vo = ValenceOrbital()\n",
        "  df = vo.featurize_dataframe(df,\"composition\",ignore_errors=True)\n",
        "\n",
        "  ox = OxidationStates()\n",
        "  df = ox.featurize_dataframe(df, \"composition_oxid\",ignore_errors=True)\n",
        "  \n",
        "  # structure features\n",
        "  den = DensityFeatures()\n",
        "  df = den.featurize_dataframe(df, \"structure\",ignore_errors=True)\n",
        "  \n",
        "  if rdf_flag:\n",
        "    rdf = RadialDistributionFunction(cutoff=15.0,bin_size=0.2)\n",
        "    df = rdf.featurize_dataframe(df, \"structure\") \n",
        "  \n",
        "  return df\n",
        "\n",
        "def add_features(df,save=False,dname=None,path=''):\n",
        "  '''Add features to dataframe'''\n",
        "  \n",
        "  df = add_atom_features(df)\n",
        "  df = add_cs_features(df)\n",
        "  \n",
        "  \n",
        "  if save:\n",
        "    if not dname:\n",
        "      dname = pname\n",
        "      \n",
        "    fname = '%s/%s_feats.pkl' % (path,dname) \n",
        "    data.to_pickle(fname)\n",
        "    print('Saved data with features to ',fname)\n",
        "  \n",
        "  return df\n",
        "  "
      ],
      "execution_count": 0,
      "outputs": []
    },
    {
      "metadata": {
        "id": "P-Bo5eacCmgq",
        "colab_type": "text"
      },
      "cell_type": "markdown",
      "source": [
        "## Contructing input vector"
      ]
    },
    {
      "metadata": {
        "id": "3q2Q91yCCP84",
        "colab_type": "code",
        "colab": {}
      },
      "cell_type": "code",
      "source": [
        "def get_xy(df,pname): #,elems,pname,pmin,pmax,stab):\n",
        "  '''Get x and y from data'''\n",
        "\n",
        "  # # filter NaNs and entries based on criteria\n",
        "  df = df.dropna()\n",
        "  # df = filter_data(df,elems,pname,pmin=pmin,pmax=pmax,stab=stab)\n",
        "\n",
        "  # exclude non-input columns\n",
        "  labels = ['pretty_formula',pname,'e_above_hull','structure','composition','composition_oxid','radial distribution function']\n",
        "  exclude = []\n",
        "  for item in labels:\n",
        "    if item in df.columns.values:\n",
        "      exclude.append(item)\n",
        "\n",
        "\n",
        "  # get X and Y\n",
        "  x = df.sort_index().drop(exclude, axis=1)\n",
        "  y = df[pname].sort_index().values\n",
        "\n",
        "  return x,y"
      ],
      "execution_count": 0,
      "outputs": []
    },
    {
      "metadata": {
        "id": "7QIOJqO0C1hY",
        "colab_type": "code",
        "colab": {}
      },
      "cell_type": "code",
      "source": [
        "def filter_data(df,elems,pname,pmin=None,pmax=None,stab=None):\n",
        "  '''Filter data by criteria'''\n",
        "\n",
        "  print('# entries before filters: ',len(df))\n",
        "\n",
        "  # filter by chemistry\n",
        "  inds = np.zeros((len(elems),len(df)))\n",
        "  for i,item in enumerate(elems):\n",
        "    inds[i,:] = (df['pretty_formula'].str.contains(item))\n",
        "\n",
        "  idx = np.prod(inds,axis=0)\n",
        "  df = df[idx==1]\n",
        "  print('# entries after chemistry: ',len(df))\n",
        "\n",
        "  # filter by property values\n",
        "  if pmin:\n",
        "    df = df[df[pname] >= pmin]\n",
        "  if pmax:\n",
        "    df = df[df[pname] <= pmax]\n",
        "  print('# entries after property: ',len(df))\n",
        "\n",
        "  # filter by stability\n",
        "  if stab:\n",
        "    df = df[df['e_above_hull'] <= stab]\n",
        "  print('# entries after stability: ',len(df))\n",
        "\n",
        "  return df"
      ],
      "execution_count": 0,
      "outputs": []
    },
    {
      "metadata": {
        "id": "NLOjhOiRDwKm",
        "colab_type": "text"
      },
      "cell_type": "markdown",
      "source": [
        "## Fitting random forest model "
      ]
    },
    {
      "metadata": {
        "id": "cjHFr9mADvV1",
        "colab_type": "code",
        "colab": {}
      },
      "cell_type": "code",
      "source": [
        "def fit_forest(x,y,fast=False,lbl='Full'):\n",
        "\n",
        "  # split data\n",
        "  x_train, x_test, y_train, y_test = train_test_split(x, y, test_size=0.2, random_state=42)\n",
        "\n",
        "  # grid-search optimal parameters\n",
        "  rf = RandomForestRegressor()\n",
        "  if fast:\n",
        "    param_grid = { \n",
        "        'n_estimators'      : [10,50,100,250],\n",
        "        'max_features'      : ['auto','sqrt','log2'],\n",
        "        'min_samples_split' : [4],\n",
        "        'min_samples_leaf'  : [1]\n",
        "        }    \n",
        "  else:\n",
        "    param_grid = { \n",
        "        'n_estimators'      : [10,25,50,100,250],\n",
        "        'max_features'      : ['auto','sqrt','log2'],\n",
        "        'min_samples_split' : [2,4,8],\n",
        "        'min_samples_leaf'  : [1, 2, 5]\n",
        "        }\n",
        "  grid = GridSearchCV(rf, param_grid, n_jobs=-1, cv=5)\n",
        "  grid.fit(x_train, y_train)\n",
        "\n",
        "  print(grid.best_score_)\n",
        "  print(grid.best_params_)\n",
        "  print(grid.score(x_test, y_test))\n",
        "\n",
        "  # use optimal parameters\n",
        "  rf.set_params(**grid.best_params_)\n",
        "  rf.fit(x_train, y_train)\n",
        "\n",
        "  y_hat_train = rf.predict(x_train) \n",
        "  y_hat_test = rf.predict(x_test) \n",
        "\n",
        "  mae_train = np.mean(abs(y_hat_train-y_train))/np.mean(y_train)\n",
        "  print('%s RF, train error: %.3f' % (lbl,mae_train))\n",
        "\n",
        "  mae_test = np.mean(abs(y_hat_test-y_test))/np.mean(y_test)\n",
        "  print('%s RF, test error : %.3f' % (lbl,mae_test))\n",
        "\n",
        "  return rf\n",
        "\n",
        "def fit_model(x,y,fast=False,show=False,save=False,dname=None,path=''):\n",
        "\n",
        "  # fit RF using all variables\n",
        "  print('Fitting full random forest...')\n",
        "  rf = fit_forest(x,y,fast=fast,lbl='Full')\n",
        "\n",
        "  # variable importances\n",
        "  nvar = 10\n",
        "  imp = rf.feature_importances_\n",
        "  idx = np.argsort(imp)[::-1]\n",
        "  print('%d most important variables:' % nvar)\n",
        "  print(x.columns.values[idx][0:nvar])\n",
        "\n",
        "  # prune variables\n",
        "  thr = 0.5*np.median(imp)\n",
        "  idx = imp < thr\n",
        "  exclude = list(x.columns.values[idx])\n",
        "  x_sel = x.drop(exclude, axis=1)\n",
        "  x_sel_cols = x_sel.columns.values\n",
        "  \n",
        "  # fit RF using important variables\n",
        "  print('\\nFitting pruned random forest...')\n",
        "  rf = fit_forest(x_sel,y,fast=fast,lbl='Pruned')\n",
        "  \n",
        "  print('%d pruned variables:' % len(x_sel.columns))\n",
        "  print(x_sel_cols)\n",
        "  \n",
        "  if save:\n",
        "    if not dname:\n",
        "      dname = pname\n",
        "      \n",
        "    fname = '%s/%s_model.pkl' % (path,dname) \n",
        "    f = open(fname, \"wb\")\n",
        "    pickle.dump(rf, f)\n",
        "    pickle.dump(list(x_sel_cols), f)\n",
        "    f.close()\n",
        "  \n",
        "  if show:\n",
        "    # plt.figure(figsize=(7, 4))\n",
        "\n",
        "    # importance chart\n",
        "    plt.subplot(121)\n",
        "    \n",
        "    ind = np.argsort(imp)[::-1]\n",
        "    plt.bar(x=x.columns.values[ind][0:nvar], height=imp[ind][0:nvar],color=(0.3,0.3,0.9))\n",
        "    plt.xticks(x.columns.values[ind][0:nvar], x.columns.values[ind][0:nvar], rotation='vertical')\n",
        "    plt.xlabel('Variables')\n",
        "    plt.ylabel('Importance')\n",
        "\n",
        "    # parity plot\n",
        "    ax = plt.subplot(122)\n",
        "    ax.set_aspect(1)\n",
        "    \n",
        "    plt.scatter(y, rf.predict(x_sel),marker='s',alpha=.25,c=(0.9,0.3,0.3))\n",
        "    plt.plot(np.arange(np.max(y)),c='gray')\n",
        "    plt.xlabel('Ground truth')\n",
        "    plt.ylabel('RF prediction')\n",
        "    \n",
        "    plt.subplots_adjust(bottom=0.25,top=0.75)\n",
        "    plt.draw()\n",
        "    plt.show()\n",
        "  \n",
        "\n",
        "  return rf,x_sel_cols\n"
      ],
      "execution_count": 0,
      "outputs": []
    },
    {
      "metadata": {
        "id": "w8ajHUyLIZoV",
        "colab_type": "code",
        "colab": {}
      },
      "cell_type": "code",
      "source": [
        "def digest(url):\n",
        "\t'''Get structure for given url of CIF file'''\n",
        "\n",
        "\tresponse = requests.get(url)\n",
        "\tdata = response.text\n",
        "\n",
        "\tparser = CifParser.from_string(data)\n",
        "\tstructure = parser.get_structures()[0]\n",
        "\tprint('Successfuly read structure for',structure.composition)\n",
        "\n",
        "\treturn structure\n",
        "\n",
        "def get_xnew(df,x_cols):\n",
        "\t'''Get feature vector for new material'''\n",
        "\n",
        "\t# exclude columns non-present in x_train\n",
        "\texclude = []\n",
        "\tfor item in df.columns.values:\n",
        "\t\tif item not in x_cols:\n",
        "\t\t\texclude.append(item)\n",
        "\n",
        "\t# get X \n",
        "\tx = df.drop(exclude, axis=1)\n",
        "\n",
        "\treturn x\n",
        "\n",
        "def use_model(formula,CIF_path,mdl,x_cols):\n",
        "\n",
        "\t# get structure for given CIF\n",
        "\tstructure = digest(CIF_path)\n",
        "\n",
        "\t# initialize df\n",
        "\tdf = pd.DataFrame(columns=['pretty_formula','structure'])\n",
        "\n",
        "\t# fill df\n",
        "\tdf[\"pretty_formula\"] = pd.Series([formula])\n",
        "\tdf[\"structure\"] = pd.Series([structure])\n",
        "\n",
        "\t# add features\n",
        "\tdf = add_atom_features(df)\n",
        "\tdf = add_cs_features(df)\n",
        "\n",
        "\t# get x vector for new material\n",
        "\txnew = get_xnew(df,x_cols)\n",
        "\n",
        "\tynew = mdl.predict(xnew)\n",
        "\tprint('Predicted property: %.3f' % ynew)\n",
        "\n",
        "\treturn xnew,ynew"
      ],
      "execution_count": 0,
      "outputs": []
    },
    {
      "metadata": {
        "id": "9fYRRbSBCQY_",
        "colab_type": "text"
      },
      "cell_type": "markdown",
      "source": [
        "# Run the workflow"
      ]
    },
    {
      "metadata": {
        "id": "qSYjiiX-LVa2",
        "colab_type": "text"
      },
      "cell_type": "markdown",
      "source": [
        "### Get data from mp database"
      ]
    },
    {
      "metadata": {
        "id": "vE4ZEoNU_2Fs",
        "colab_type": "code",
        "colab": {
          "base_uri": "https://localhost:8080/",
          "height": 108
        },
        "outputId": "d28006b8-bdea-4757-c265-b99c897c6edb"
      },
      "cell_type": "code",
      "source": [
        "%%time \n",
        "\n",
        "data = query_data(pname,api_key,save_flag,dname,dpath,\n",
        "                  elems=elems,pmin=pmin,pmax=pmax,stab=stab)"
      ],
      "execution_count": 16,
      "outputs": [
        {
          "output_type": "stream",
          "text": [
            "There are 1655 entries satisfying criteria\n",
            "Loading structures...\n",
            "Saved raw data to  /gdrive/My Drive/band_gapper/data/all_bg.pkl\n",
            "CPU times: user 1.34 s, sys: 180 ms, total: 1.52 s\n",
            "Wall time: 12.5 s\n"
          ],
          "name": "stdout"
        }
      ]
    },
    {
      "metadata": {
        "id": "HUuXWLkSeTc-",
        "colab_type": "code",
        "colab": {
          "base_uri": "https://localhost:8080/",
          "height": 288
        },
        "outputId": "8a2ec15f-6d8d-47c1-be74-8c9be25db76c"
      },
      "cell_type": "code",
      "source": [
        "data.describe()"
      ],
      "execution_count": 17,
      "outputs": [
        {
          "output_type": "execute_result",
          "data": {
            "text/html": [
              "<div>\n",
              "<style scoped>\n",
              "    .dataframe tbody tr th:only-of-type {\n",
              "        vertical-align: middle;\n",
              "    }\n",
              "\n",
              "    .dataframe tbody tr th {\n",
              "        vertical-align: top;\n",
              "    }\n",
              "\n",
              "    .dataframe thead th {\n",
              "        text-align: right;\n",
              "    }\n",
              "</style>\n",
              "<table border=\"1\" class=\"dataframe\">\n",
              "  <thead>\n",
              "    <tr style=\"text-align: right;\">\n",
              "      <th></th>\n",
              "      <th>band_gap</th>\n",
              "      <th>e_above_hull</th>\n",
              "    </tr>\n",
              "  </thead>\n",
              "  <tbody>\n",
              "    <tr>\n",
              "      <th>count</th>\n",
              "      <td>1655.000000</td>\n",
              "      <td>1655.000000</td>\n",
              "    </tr>\n",
              "    <tr>\n",
              "      <th>mean</th>\n",
              "      <td>2.274631</td>\n",
              "      <td>0.048967</td>\n",
              "    </tr>\n",
              "    <tr>\n",
              "      <th>std</th>\n",
              "      <td>0.928857</td>\n",
              "      <td>0.040992</td>\n",
              "    </tr>\n",
              "    <tr>\n",
              "      <th>min</th>\n",
              "      <td>0.501800</td>\n",
              "      <td>0.000000</td>\n",
              "    </tr>\n",
              "    <tr>\n",
              "      <th>25%</th>\n",
              "      <td>1.517500</td>\n",
              "      <td>0.016624</td>\n",
              "    </tr>\n",
              "    <tr>\n",
              "      <th>50%</th>\n",
              "      <td>2.298000</td>\n",
              "      <td>0.047087</td>\n",
              "    </tr>\n",
              "    <tr>\n",
              "      <th>75%</th>\n",
              "      <td>2.982700</td>\n",
              "      <td>0.069524</td>\n",
              "    </tr>\n",
              "    <tr>\n",
              "      <th>max</th>\n",
              "      <td>4.602300</td>\n",
              "      <td>0.416387</td>\n",
              "    </tr>\n",
              "  </tbody>\n",
              "</table>\n",
              "</div>"
            ],
            "text/plain": [
              "          band_gap  e_above_hull\n",
              "count  1655.000000   1655.000000\n",
              "mean      2.274631      0.048967\n",
              "std       0.928857      0.040992\n",
              "min       0.501800      0.000000\n",
              "25%       1.517500      0.016624\n",
              "50%       2.298000      0.047087\n",
              "75%       2.982700      0.069524\n",
              "max       4.602300      0.416387"
            ]
          },
          "metadata": {
            "tags": []
          },
          "execution_count": 17
        }
      ]
    },
    {
      "metadata": {
        "id": "l4nFhrbOLcXP",
        "colab_type": "text"
      },
      "cell_type": "markdown",
      "source": [
        "### Add features to data"
      ]
    },
    {
      "metadata": {
        "id": "KQH8qDOxBMbh",
        "colab_type": "code",
        "colab": {
          "base_uri": "https://localhost:8080/",
          "height": 199
        },
        "outputId": "1bf51f58-9e18-4421-b68b-d4e272d654b3"
      },
      "cell_type": "code",
      "source": [
        "%%time \n",
        "\n",
        "df = add_features(data,save_flag,dname,dpath)"
      ],
      "execution_count": 18,
      "outputs": [
        {
          "output_type": "stream",
          "text": [
            "Done adding atomic features\n",
            "Created composition column\n",
            "Created composition_oxid column\n"
          ],
          "name": "stdout"
        },
        {
          "output_type": "stream",
          "text": [
            "\rValenceOrbital:   0%|          | 0/1655 [00:00<?, ?it/s]"
          ],
          "name": "stderr"
        },
        {
          "output_type": "stream",
          "text": [
            "Created structure column\n"
          ],
          "name": "stdout"
        },
        {
          "output_type": "stream",
          "text": [
            "ValenceOrbital: 100%|██████████| 1655/1655 [00:00<00:00, 4953.25it/s]\n",
            "OxidationStates: 100%|██████████| 1655/1655 [00:00<00:00, 6271.81it/s]\n",
            "DensityFeatures: 100%|██████████| 1655/1655 [00:08<00:00, 206.50it/s]\n"
          ],
          "name": "stderr"
        },
        {
          "output_type": "stream",
          "text": [
            "Saved data with features to  /gdrive/My Drive/band_gapper/data/all_bg_feats.pkl\n",
            "CPU times: user 16.7 s, sys: 330 ms, total: 17.1 s\n",
            "Wall time: 28.2 s\n"
          ],
          "name": "stdout"
        }
      ]
    },
    {
      "metadata": {
        "id": "uSW0X9J2LuFI",
        "colab_type": "text"
      },
      "cell_type": "markdown",
      "source": [
        "### Construct input vector"
      ]
    },
    {
      "metadata": {
        "id": "M1Y1ng04CZF6",
        "colab_type": "code",
        "colab": {
          "base_uri": "https://localhost:8080/",
          "height": 54
        },
        "outputId": "2bbec6aa-67ec-4f3f-8f6c-c96aec8635e4"
      },
      "cell_type": "code",
      "source": [
        "%%time\n",
        "x,y = get_xy(df)"
      ],
      "execution_count": 19,
      "outputs": [
        {
          "output_type": "stream",
          "text": [
            "CPU times: user 8.34 ms, sys: 3.02 ms, total: 11.4 ms\n",
            "Wall time: 15.8 ms\n"
          ],
          "name": "stdout"
        }
      ]
    },
    {
      "metadata": {
        "id": "rDynwAV0LxM0",
        "colab_type": "text"
      },
      "cell_type": "markdown",
      "source": [
        "### Fit RF model"
      ]
    },
    {
      "metadata": {
        "id": "RWCjr1U5D5Ks",
        "colab_type": "code",
        "colab": {
          "base_uri": "https://localhost:8080/",
          "height": 828
        },
        "outputId": "a6e004f0-d2a2-4caa-bac6-a516dd346d9f"
      },
      "cell_type": "code",
      "source": [
        "%%time \n",
        "\n",
        "mdl,x_cols = fit_model(x,y,fast=True,show=True,save=save_flag,dname=dname,path=dpath)"
      ],
      "execution_count": 20,
      "outputs": [
        {
          "output_type": "stream",
          "text": [
            "Fitting full random forest...\n",
            "0.7826734473347505\n",
            "{'max_features': 'sqrt', 'min_samples_leaf': 1, 'min_samples_split': 4, 'n_estimators': 100}\n",
            "0.8068980791431473\n",
            "Full RF, train error: 0.060\n",
            "Full RF, test error : 0.125\n",
            "10 most important variables:\n",
            "['frac d valence electrons' 'avg d valence electrons' 'avg ionic radius'\n",
            " 'avg atom mass' 'density' 'frac p valence electrons' 'avg row'\n",
            " 'frac s valence electrons' 'packing fraction' 'std_dev oxidation state']\n",
            "\n",
            "Fitting pruned random forest...\n",
            "0.778705707025894\n",
            "{'max_features': 'log2', 'min_samples_leaf': 1, 'min_samples_split': 4, 'n_estimators': 250}\n",
            "0.8137795748123329\n",
            "Pruned RF, train error: 0.060\n",
            "Pruned RF, test error : 0.124\n",
            "18 pruned variables:\n",
            "['avg row' 'avg column' 'avg num' 'avg el-neg' 'avg atom mass'\n",
            " 'avg atom radius' 'avg ionic radius' 'avg s valence electrons'\n",
            " 'avg p valence electrons' 'avg d valence electrons'\n",
            " 'frac s valence electrons' 'frac p valence electrons'\n",
            " 'frac d valence electrons' 'range oxidation state'\n",
            " 'std_dev oxidation state' 'density' 'vpa' 'packing fraction']\n"
          ],
          "name": "stdout"
        },
        {
          "output_type": "display_data",
          "data": {
            "image/png": "[encoded data removed]",
            "text/plain": [
              "<matplotlib.figure.Figure at 0x7f252ee6c438>"
            ]
          },
          "metadata": {
            "tags": []
          }
        },
        {
          "output_type": "stream",
          "text": [
            "CPU times: user 3.67 s, sys: 497 ms, total: 4.17 s\n",
            "Wall time: 49.3 s\n"
          ],
          "name": "stdout"
        }
      ]
    },
    {
      "metadata": {
        "id": "Il6YwmXKDZ2T",
        "colab_type": "text"
      },
      "cell_type": "markdown",
      "source": [
        "### Use RF model for new material"
      ]
    },
    {
      "metadata": {
        "id": "5UZpUVDdCzw1",
        "colab_type": "code",
        "colab": {},
        "cellView": "form"
      },
      "cell_type": "code",
      "source": [
        "#@title New material\n",
        "\n",
        "formula = 'Li5FeO4' #@param {type:\"string\"}\n",
        "CIF_url = '' #@param {type:\"string\"}"
      ],
      "execution_count": 0,
      "outputs": []
    },
    {
      "metadata": {
        "id": "x4wddNQNC3ef",
        "colab_type": "code",
        "colab": {
          "base_uri": "https://localhost:8080/",
          "height": 181
        },
        "outputId": "946e79b5-1341-4fdf-d270-6fdd6b1cefc1"
      },
      "cell_type": "code",
      "source": [
        "if CIF_url =='' or 'http' not in CIF_url:\n",
        "  print('Correct CIF url is required')\n",
        "else:\n",
        "  xnew,ynew = use_model(formula,CIF_url,mdl,x_cols)"
      ],
      "execution_count": 27,
      "outputs": [
        {
          "output_type": "stream",
          "text": [
            "\rValenceOrbital:   0%|          | 0/1 [00:00<?, ?it/s]"
          ],
          "name": "stderr"
        },
        {
          "output_type": "stream",
          "text": [
            "Successfuly read structure for Li40 Fe8 O32\n",
            "Done adding atomic features\n",
            "Created composition column\n",
            "Created composition_oxid column\n",
            "Created structure column\n"
          ],
          "name": "stdout"
        },
        {
          "output_type": "stream",
          "text": [
            "ValenceOrbital: 100%|██████████| 1/1 [00:00<00:00, 41.64it/s]\n",
            "OxidationStates: 100%|██████████| 1/1 [00:00<00:00, 45.12it/s]\n",
            "DensityFeatures: 100%|██████████| 1/1 [00:00<00:00, 44.90it/s]\n"
          ],
          "name": "stderr"
        },
        {
          "output_type": "stream",
          "text": [
            "Predicted property: 2.877\n"
          ],
          "name": "stdout"
        }
      ]
    }
  ]
}